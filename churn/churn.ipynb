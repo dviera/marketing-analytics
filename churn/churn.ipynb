{
 "cells": [
  {
   "cell_type": "code",
   "execution_count": 1,
   "metadata": {},
   "outputs": [
    {
     "name": "stderr",
     "output_type": "stream",
     "text": [
      "Loading required package: lattice\n",
      "\n"
     ]
    }
   ],
   "source": [
    "library(readxl)\n",
    "library(ggplot2)\n",
    "library(caret)\n",
    "library(reshape2)\n",
    "\n",
    "options(repr.plot.width=12, repr.plot.height=6) # plots size"
   ]
  },
  {
   "cell_type": "code",
   "execution_count": 2,
   "metadata": {},
   "outputs": [
    {
     "data": {
      "text/html": [
       "<table>\n",
       "<caption>A tibble: 6 × 21</caption>\n",
       "<thead>\n",
       "\t<tr><th scope=col>Account Length</th><th scope=col>VMail Message</th><th scope=col>Day Mins</th><th scope=col>Eve Mins</th><th scope=col>Night Mins</th><th scope=col>Intl Mins</th><th scope=col>CustServ Calls</th><th scope=col>Churn</th><th scope=col>Int'l Plan</th><th scope=col>VMail Plan</th><th scope=col>...</th><th scope=col>Day Charge</th><th scope=col>Eve Calls</th><th scope=col>Eve Charge</th><th scope=col>Night Calls</th><th scope=col>Night Charge</th><th scope=col>Intl Calls</th><th scope=col>Intl Charge</th><th scope=col>State</th><th scope=col>Area Code</th><th scope=col>Phone</th></tr>\n",
       "\t<tr><th scope=col>&lt;dbl&gt;</th><th scope=col>&lt;dbl&gt;</th><th scope=col>&lt;dbl&gt;</th><th scope=col>&lt;dbl&gt;</th><th scope=col>&lt;dbl&gt;</th><th scope=col>&lt;dbl&gt;</th><th scope=col>&lt;dbl&gt;</th><th scope=col>&lt;dbl&gt;</th><th scope=col>&lt;dbl&gt;</th><th scope=col>&lt;dbl&gt;</th><th scope=col>...</th><th scope=col>&lt;dbl&gt;</th><th scope=col>&lt;dbl&gt;</th><th scope=col>&lt;dbl&gt;</th><th scope=col>&lt;dbl&gt;</th><th scope=col>&lt;dbl&gt;</th><th scope=col>&lt;dbl&gt;</th><th scope=col>&lt;dbl&gt;</th><th scope=col>&lt;chr&gt;</th><th scope=col>&lt;dbl&gt;</th><th scope=col>&lt;chr&gt;</th></tr>\n",
       "</thead>\n",
       "<tbody>\n",
       "\t<tr><td>128</td><td>25</td><td>265.1</td><td>197.4</td><td>244.7</td><td>10.0</td><td>1</td><td>0</td><td>0</td><td>1</td><td>...</td><td>45.07</td><td> 99</td><td>16.78</td><td> 91</td><td>11.01</td><td>3</td><td>2.70</td><td>KS</td><td>415</td><td>382-4657</td></tr>\n",
       "\t<tr><td>107</td><td>26</td><td>161.6</td><td>195.5</td><td>254.4</td><td>13.7</td><td>1</td><td>0</td><td>0</td><td>1</td><td>...</td><td>27.47</td><td>103</td><td>16.62</td><td>103</td><td>11.45</td><td>3</td><td>3.70</td><td>OH</td><td>415</td><td>371-7191</td></tr>\n",
       "\t<tr><td>137</td><td> 0</td><td>243.4</td><td>121.2</td><td>162.6</td><td>12.2</td><td>0</td><td>0</td><td>0</td><td>0</td><td>...</td><td>41.38</td><td>110</td><td>10.30</td><td>104</td><td> 7.32</td><td>5</td><td>3.29</td><td>NJ</td><td>415</td><td>358-1921</td></tr>\n",
       "\t<tr><td> 84</td><td> 0</td><td>299.4</td><td> 61.9</td><td>196.9</td><td> 6.6</td><td>2</td><td>0</td><td>1</td><td>0</td><td>...</td><td>50.90</td><td> 88</td><td> 5.26</td><td> 89</td><td> 8.86</td><td>7</td><td>1.78</td><td>OH</td><td>408</td><td>375-9999</td></tr>\n",
       "\t<tr><td> 75</td><td> 0</td><td>166.7</td><td>148.3</td><td>186.9</td><td>10.1</td><td>3</td><td>0</td><td>1</td><td>0</td><td>...</td><td>28.34</td><td>122</td><td>12.61</td><td>121</td><td> 8.41</td><td>3</td><td>2.73</td><td>OK</td><td>415</td><td>330-6626</td></tr>\n",
       "\t<tr><td>118</td><td> 0</td><td>223.4</td><td>220.6</td><td>203.9</td><td> 6.3</td><td>0</td><td>0</td><td>1</td><td>0</td><td>...</td><td>37.98</td><td>101</td><td>18.75</td><td>118</td><td> 9.18</td><td>6</td><td>1.70</td><td>AL</td><td>510</td><td>391-8027</td></tr>\n",
       "</tbody>\n",
       "</table>\n"
      ],
      "text/latex": [
       "A tibble: 6 × 21\n",
       "\\begin{tabular}{lllllllllllllllllllll}\n",
       " Account Length & VMail Message & Day Mins & Eve Mins & Night Mins & Intl Mins & CustServ Calls & Churn & Int'l Plan & VMail Plan & ... & Day Charge & Eve Calls & Eve Charge & Night Calls & Night Charge & Intl Calls & Intl Charge & State & Area Code & Phone\\\\\n",
       " <dbl> & <dbl> & <dbl> & <dbl> & <dbl> & <dbl> & <dbl> & <dbl> & <dbl> & <dbl> & ... & <dbl> & <dbl> & <dbl> & <dbl> & <dbl> & <dbl> & <dbl> & <chr> & <dbl> & <chr>\\\\\n",
       "\\hline\n",
       "\t 128 & 25 & 265.1 & 197.4 & 244.7 & 10.0 & 1 & 0 & 0 & 1 & ... & 45.07 &  99 & 16.78 &  91 & 11.01 & 3 & 2.70 & KS & 415 & 382-4657\\\\\n",
       "\t 107 & 26 & 161.6 & 195.5 & 254.4 & 13.7 & 1 & 0 & 0 & 1 & ... & 27.47 & 103 & 16.62 & 103 & 11.45 & 3 & 3.70 & OH & 415 & 371-7191\\\\\n",
       "\t 137 &  0 & 243.4 & 121.2 & 162.6 & 12.2 & 0 & 0 & 0 & 0 & ... & 41.38 & 110 & 10.30 & 104 &  7.32 & 5 & 3.29 & NJ & 415 & 358-1921\\\\\n",
       "\t  84 &  0 & 299.4 &  61.9 & 196.9 &  6.6 & 2 & 0 & 1 & 0 & ... & 50.90 &  88 &  5.26 &  89 &  8.86 & 7 & 1.78 & OH & 408 & 375-9999\\\\\n",
       "\t  75 &  0 & 166.7 & 148.3 & 186.9 & 10.1 & 3 & 0 & 1 & 0 & ... & 28.34 & 122 & 12.61 & 121 &  8.41 & 3 & 2.73 & OK & 415 & 330-6626\\\\\n",
       "\t 118 &  0 & 223.4 & 220.6 & 203.9 &  6.3 & 0 & 0 & 1 & 0 & ... & 37.98 & 101 & 18.75 & 118 &  9.18 & 6 & 1.70 & AL & 510 & 391-8027\\\\\n",
       "\\end{tabular}\n"
      ],
      "text/markdown": [
       "\n",
       "A tibble: 6 × 21\n",
       "\n",
       "| Account Length &lt;dbl&gt; | VMail Message &lt;dbl&gt; | Day Mins &lt;dbl&gt; | Eve Mins &lt;dbl&gt; | Night Mins &lt;dbl&gt; | Intl Mins &lt;dbl&gt; | CustServ Calls &lt;dbl&gt; | Churn &lt;dbl&gt; | Int'l Plan &lt;dbl&gt; | VMail Plan &lt;dbl&gt; | ... ... | Day Charge &lt;dbl&gt; | Eve Calls &lt;dbl&gt; | Eve Charge &lt;dbl&gt; | Night Calls &lt;dbl&gt; | Night Charge &lt;dbl&gt; | Intl Calls &lt;dbl&gt; | Intl Charge &lt;dbl&gt; | State &lt;chr&gt; | Area Code &lt;dbl&gt; | Phone &lt;chr&gt; |\n",
       "|---|---|---|---|---|---|---|---|---|---|---|---|---|---|---|---|---|---|---|---|---|\n",
       "| 128 | 25 | 265.1 | 197.4 | 244.7 | 10.0 | 1 | 0 | 0 | 1 | ... | 45.07 |  99 | 16.78 |  91 | 11.01 | 3 | 2.70 | KS | 415 | 382-4657 |\n",
       "| 107 | 26 | 161.6 | 195.5 | 254.4 | 13.7 | 1 | 0 | 0 | 1 | ... | 27.47 | 103 | 16.62 | 103 | 11.45 | 3 | 3.70 | OH | 415 | 371-7191 |\n",
       "| 137 |  0 | 243.4 | 121.2 | 162.6 | 12.2 | 0 | 0 | 0 | 0 | ... | 41.38 | 110 | 10.30 | 104 |  7.32 | 5 | 3.29 | NJ | 415 | 358-1921 |\n",
       "|  84 |  0 | 299.4 |  61.9 | 196.9 |  6.6 | 2 | 0 | 1 | 0 | ... | 50.90 |  88 |  5.26 |  89 |  8.86 | 7 | 1.78 | OH | 408 | 375-9999 |\n",
       "|  75 |  0 | 166.7 | 148.3 | 186.9 | 10.1 | 3 | 0 | 1 | 0 | ... | 28.34 | 122 | 12.61 | 121 |  8.41 | 3 | 2.73 | OK | 415 | 330-6626 |\n",
       "| 118 |  0 | 223.4 | 220.6 | 203.9 |  6.3 | 0 | 0 | 1 | 0 | ... | 37.98 | 101 | 18.75 | 118 |  9.18 | 6 | 1.70 | AL | 510 | 391-8027 |\n",
       "\n"
      ],
      "text/plain": [
       "  Account Length VMail Message Day Mins Eve Mins Night Mins Intl Mins\n",
       "1 128            25            265.1    197.4    244.7      10.0     \n",
       "2 107            26            161.6    195.5    254.4      13.7     \n",
       "3 137             0            243.4    121.2    162.6      12.2     \n",
       "4  84             0            299.4     61.9    196.9       6.6     \n",
       "5  75             0            166.7    148.3    186.9      10.1     \n",
       "6 118             0            223.4    220.6    203.9       6.3     \n",
       "  CustServ Calls Churn Int'l Plan VMail Plan ... Day Charge Eve Calls\n",
       "1 1              0     0          1          ... 45.07       99      \n",
       "2 1              0     0          1          ... 27.47      103      \n",
       "3 0              0     0          0          ... 41.38      110      \n",
       "4 2              0     1          0          ... 50.90       88      \n",
       "5 3              0     1          0          ... 28.34      122      \n",
       "6 0              0     1          0          ... 37.98      101      \n",
       "  Eve Charge Night Calls Night Charge Intl Calls Intl Charge State Area Code\n",
       "1 16.78       91         11.01        3          2.70        KS    415      \n",
       "2 16.62      103         11.45        3          3.70        OH    415      \n",
       "3 10.30      104          7.32        5          3.29        NJ    415      \n",
       "4  5.26       89          8.86        7          1.78        OH    408      \n",
       "5 12.61      121          8.41        3          2.73        OK    415      \n",
       "6 18.75      118          9.18        6          1.70        AL    510      \n",
       "  Phone   \n",
       "1 382-4657\n",
       "2 371-7191\n",
       "3 358-1921\n",
       "4 375-9999\n",
       "5 330-6626\n",
       "6 391-8027"
      ]
     },
     "metadata": {},
     "output_type": "display_data"
    }
   ],
   "source": [
    "churn <- read_excel(\"data/Churn.xls\")\n",
    "head(churn)"
   ]
  },
  {
   "cell_type": "code",
   "execution_count": 3,
   "metadata": {},
   "outputs": [
    {
     "data": {
      "text/html": [
       "<style>\n",
       ".list-inline {list-style: none; margin:0; padding: 0}\n",
       ".list-inline>li {display: inline-block}\n",
       ".list-inline>li:not(:last-child)::after {content: \"\\00b7\"; padding: 0 .5ex}\n",
       "</style>\n",
       "<ol class=list-inline><li>'Account Length'</li><li>'VMail Message'</li><li>'Day Mins'</li><li>'Eve Mins'</li><li>'Night Mins'</li><li>'Intl Mins'</li><li>'CustServ Calls'</li><li>'Churn'</li><li>'Int\\'l Plan'</li><li>'VMail Plan'</li><li>'Day Calls'</li><li>'Day Charge'</li><li>'Eve Calls'</li><li>'Eve Charge'</li><li>'Night Calls'</li><li>'Night Charge'</li><li>'Intl Calls'</li><li>'Intl Charge'</li><li>'State'</li><li>'Area Code'</li><li>'Phone'</li></ol>\n"
      ],
      "text/latex": [
       "\\begin{enumerate*}\n",
       "\\item 'Account Length'\n",
       "\\item 'VMail Message'\n",
       "\\item 'Day Mins'\n",
       "\\item 'Eve Mins'\n",
       "\\item 'Night Mins'\n",
       "\\item 'Intl Mins'\n",
       "\\item 'CustServ Calls'\n",
       "\\item 'Churn'\n",
       "\\item 'Int\\textbackslash{}'l Plan'\n",
       "\\item 'VMail Plan'\n",
       "\\item 'Day Calls'\n",
       "\\item 'Day Charge'\n",
       "\\item 'Eve Calls'\n",
       "\\item 'Eve Charge'\n",
       "\\item 'Night Calls'\n",
       "\\item 'Night Charge'\n",
       "\\item 'Intl Calls'\n",
       "\\item 'Intl Charge'\n",
       "\\item 'State'\n",
       "\\item 'Area Code'\n",
       "\\item 'Phone'\n",
       "\\end{enumerate*}\n"
      ],
      "text/markdown": [
       "1. 'Account Length'\n",
       "2. 'VMail Message'\n",
       "3. 'Day Mins'\n",
       "4. 'Eve Mins'\n",
       "5. 'Night Mins'\n",
       "6. 'Intl Mins'\n",
       "7. 'CustServ Calls'\n",
       "8. 'Churn'\n",
       "9. 'Int\\'l Plan'\n",
       "10. 'VMail Plan'\n",
       "11. 'Day Calls'\n",
       "12. 'Day Charge'\n",
       "13. 'Eve Calls'\n",
       "14. 'Eve Charge'\n",
       "15. 'Night Calls'\n",
       "16. 'Night Charge'\n",
       "17. 'Intl Calls'\n",
       "18. 'Intl Charge'\n",
       "19. 'State'\n",
       "20. 'Area Code'\n",
       "21. 'Phone'\n",
       "\n",
       "\n"
      ],
      "text/plain": [
       " [1] \"Account Length\" \"VMail Message\"  \"Day Mins\"       \"Eve Mins\"      \n",
       " [5] \"Night Mins\"     \"Intl Mins\"      \"CustServ Calls\" \"Churn\"         \n",
       " [9] \"Int'l Plan\"     \"VMail Plan\"     \"Day Calls\"      \"Day Charge\"    \n",
       "[13] \"Eve Calls\"      \"Eve Charge\"     \"Night Calls\"    \"Night Charge\"  \n",
       "[17] \"Intl Calls\"     \"Intl Charge\"    \"State\"          \"Area Code\"     \n",
       "[21] \"Phone\"         "
      ]
     },
     "metadata": {},
     "output_type": "display_data"
    }
   ],
   "source": [
    "# check column names\n",
    "names(churn)"
   ]
  },
  {
   "cell_type": "code",
   "execution_count": 4,
   "metadata": {},
   "outputs": [],
   "source": [
    "# transform column names\n",
    "names(churn) <- make.names(names(churn))"
   ]
  },
  {
   "cell_type": "code",
   "execution_count": 5,
   "metadata": {},
   "outputs": [
    {
     "data": {
      "text/html": [
       "<style>\n",
       ".list-inline {list-style: none; margin:0; padding: 0}\n",
       ".list-inline>li {display: inline-block}\n",
       ".list-inline>li:not(:last-child)::after {content: \"\\00b7\"; padding: 0 .5ex}\n",
       "</style>\n",
       "<ol class=list-inline><li>'Account.Length'</li><li>'VMail.Message'</li><li>'Day.Mins'</li><li>'Eve.Mins'</li><li>'Night.Mins'</li><li>'Intl.Mins'</li><li>'CustServ.Calls'</li><li>'Churn'</li><li>'Int.l.Plan'</li><li>'VMail.Plan'</li><li>'Day.Calls'</li><li>'Day.Charge'</li><li>'Eve.Calls'</li><li>'Eve.Charge'</li><li>'Night.Calls'</li><li>'Night.Charge'</li><li>'Intl.Calls'</li><li>'Intl.Charge'</li><li>'State'</li><li>'Area.Code'</li><li>'Phone'</li></ol>\n"
      ],
      "text/latex": [
       "\\begin{enumerate*}\n",
       "\\item 'Account.Length'\n",
       "\\item 'VMail.Message'\n",
       "\\item 'Day.Mins'\n",
       "\\item 'Eve.Mins'\n",
       "\\item 'Night.Mins'\n",
       "\\item 'Intl.Mins'\n",
       "\\item 'CustServ.Calls'\n",
       "\\item 'Churn'\n",
       "\\item 'Int.l.Plan'\n",
       "\\item 'VMail.Plan'\n",
       "\\item 'Day.Calls'\n",
       "\\item 'Day.Charge'\n",
       "\\item 'Eve.Calls'\n",
       "\\item 'Eve.Charge'\n",
       "\\item 'Night.Calls'\n",
       "\\item 'Night.Charge'\n",
       "\\item 'Intl.Calls'\n",
       "\\item 'Intl.Charge'\n",
       "\\item 'State'\n",
       "\\item 'Area.Code'\n",
       "\\item 'Phone'\n",
       "\\end{enumerate*}\n"
      ],
      "text/markdown": [
       "1. 'Account.Length'\n",
       "2. 'VMail.Message'\n",
       "3. 'Day.Mins'\n",
       "4. 'Eve.Mins'\n",
       "5. 'Night.Mins'\n",
       "6. 'Intl.Mins'\n",
       "7. 'CustServ.Calls'\n",
       "8. 'Churn'\n",
       "9. 'Int.l.Plan'\n",
       "10. 'VMail.Plan'\n",
       "11. 'Day.Calls'\n",
       "12. 'Day.Charge'\n",
       "13. 'Eve.Calls'\n",
       "14. 'Eve.Charge'\n",
       "15. 'Night.Calls'\n",
       "16. 'Night.Charge'\n",
       "17. 'Intl.Calls'\n",
       "18. 'Intl.Charge'\n",
       "19. 'State'\n",
       "20. 'Area.Code'\n",
       "21. 'Phone'\n",
       "\n",
       "\n"
      ],
      "text/plain": [
       " [1] \"Account.Length\" \"VMail.Message\"  \"Day.Mins\"       \"Eve.Mins\"      \n",
       " [5] \"Night.Mins\"     \"Intl.Mins\"      \"CustServ.Calls\" \"Churn\"         \n",
       " [9] \"Int.l.Plan\"     \"VMail.Plan\"     \"Day.Calls\"      \"Day.Charge\"    \n",
       "[13] \"Eve.Calls\"      \"Eve.Charge\"     \"Night.Calls\"    \"Night.Charge\"  \n",
       "[17] \"Intl.Calls\"     \"Intl.Charge\"    \"State\"          \"Area.Code\"     \n",
       "[21] \"Phone\"         "
      ]
     },
     "metadata": {},
     "output_type": "display_data"
    }
   ],
   "source": [
    "names(churn)"
   ]
  },
  {
   "cell_type": "code",
   "execution_count": 6,
   "metadata": {},
   "outputs": [
    {
     "name": "stdout",
     "output_type": "stream",
     "text": [
      "Classes 'tbl_df', 'tbl' and 'data.frame':\t3333 obs. of  21 variables:\n",
      " $ Account.Length: num  128 107 137 84 75 118 121 147 117 141 ...\n",
      " $ VMail.Message : num  25 26 0 0 0 0 24 0 0 37 ...\n",
      " $ Day.Mins      : num  265 162 243 299 167 ...\n",
      " $ Eve.Mins      : num  197.4 195.5 121.2 61.9 148.3 ...\n",
      " $ Night.Mins    : num  245 254 163 197 187 ...\n",
      " $ Intl.Mins     : num  10 13.7 12.2 6.6 10.1 6.3 7.5 7.1 8.7 11.2 ...\n",
      " $ CustServ.Calls: num  1 1 0 2 3 0 3 0 1 0 ...\n",
      " $ Churn         : num  0 0 0 0 0 0 0 0 0 0 ...\n",
      " $ Int.l.Plan    : num  0 0 0 1 1 1 0 1 0 1 ...\n",
      " $ VMail.Plan    : num  1 1 0 0 0 0 1 0 0 1 ...\n",
      " $ Day.Calls     : num  110 123 114 71 113 98 88 79 97 84 ...\n",
      " $ Day.Charge    : num  45.1 27.5 41.4 50.9 28.3 ...\n",
      " $ Eve.Calls     : num  99 103 110 88 122 101 108 94 80 111 ...\n",
      " $ Eve.Charge    : num  16.78 16.62 10.3 5.26 12.61 ...\n",
      " $ Night.Calls   : num  91 103 104 89 121 118 118 96 90 97 ...\n",
      " $ Night.Charge  : num  11.01 11.45 7.32 8.86 8.41 ...\n",
      " $ Intl.Calls    : num  3 3 5 7 3 6 7 6 4 5 ...\n",
      " $ Intl.Charge   : num  2.7 3.7 3.29 1.78 2.73 1.7 2.03 1.92 2.35 3.02 ...\n",
      " $ State         : chr  \"KS\" \"OH\" \"NJ\" \"OH\" ...\n",
      " $ Area.Code     : num  415 415 415 408 415 510 510 415 408 415 ...\n",
      " $ Phone         : chr  \"382-4657\" \"371-7191\" \"358-1921\" \"375-9999\" ...\n"
     ]
    }
   ],
   "source": [
    "str(churn)"
   ]
  },
  {
   "cell_type": "markdown",
   "metadata": {},
   "source": [
    "### Split train and test"
   ]
  },
  {
   "cell_type": "code",
   "execution_count": 7,
   "metadata": {},
   "outputs": [],
   "source": [
    "idx = createDataPartition(y = churn$Churn, times = 1, p = 0.7, list=FALSE)\n",
    "train = churn[idx, ]\n",
    "test = churn[-idx, ]"
   ]
  },
  {
   "cell_type": "code",
   "execution_count": 8,
   "metadata": {},
   "outputs": [],
   "source": [
    "train$State <- as.factor(train$State)\n",
    "train$Churn <- as.factor(train$Churn)\n",
    "train$Area.Code <- as.factor(train$Area.Code)"
   ]
  },
  {
   "cell_type": "code",
   "execution_count": 9,
   "metadata": {},
   "outputs": [
    {
     "name": "stdout",
     "output_type": "stream",
     "text": [
      "Classes 'tbl_df', 'tbl' and 'data.frame':\t2334 obs. of  21 variables:\n",
      " $ Account.Length: num  107 137 84 75 118 147 117 65 168 62 ...\n",
      " $ VMail.Message : num  26 0 0 0 0 0 0 0 0 0 ...\n",
      " $ Day.Mins      : num  162 243 299 167 223 ...\n",
      " $ Eve.Mins      : num  195.5 121.2 61.9 148.3 220.6 ...\n",
      " $ Night.Mins    : num  254 163 197 187 204 ...\n",
      " $ Intl.Mins     : num  13.7 12.2 6.6 10.1 6.3 7.1 8.7 12.7 11.2 13.1 ...\n",
      " $ CustServ.Calls: num  1 0 2 3 0 0 1 4 1 4 ...\n",
      " $ Churn         : Factor w/ 2 levels \"0\",\"1\": 1 1 1 1 1 1 1 2 1 1 ...\n",
      " $ Int.l.Plan    : num  0 0 1 1 1 1 0 0 0 0 ...\n",
      " $ VMail.Plan    : num  1 0 0 0 0 0 0 0 0 0 ...\n",
      " $ Day.Calls     : num  123 114 71 113 98 79 97 137 96 70 ...\n",
      " $ Day.Charge    : num  27.5 41.4 50.9 28.3 38 ...\n",
      " $ Eve.Calls     : num  103 110 88 122 101 94 80 83 71 76 ...\n",
      " $ Eve.Charge    : num  16.62 10.3 5.26 12.61 18.75 ...\n",
      " $ Night.Calls   : num  103 104 89 121 118 96 90 111 128 99 ...\n",
      " $ Night.Charge  : num  11.45 7.32 8.86 8.41 9.18 ...\n",
      " $ Intl.Calls    : num  3 5 7 3 6 6 4 6 2 6 ...\n",
      " $ Intl.Charge   : num  3.7 3.29 1.78 2.73 1.7 1.92 2.35 3.43 3.02 3.54 ...\n",
      " $ State         : Factor w/ 51 levels \"AK\",\"AL\",\"AR\",..: 36 32 36 37 2 25 19 16 13 13 ...\n",
      " $ Area.Code     : Factor w/ 3 levels \"408\",\"415\",\"510\": 2 2 1 2 3 2 1 2 1 2 ...\n",
      " $ Phone         : chr  \"371-7191\" \"358-1921\" \"375-9999\" \"330-6626\" ...\n"
     ]
    }
   ],
   "source": [
    "str(train)"
   ]
  },
  {
   "cell_type": "markdown",
   "metadata": {},
   "source": [
    "## Some EDA"
   ]
  },
  {
   "cell_type": "code",
   "execution_count": 10,
   "metadata": {},
   "outputs": [
    {
     "data": {
      "image/png": "[encoded data removed]",
      "text/plain": [
       "plot without title"
      ]
     },
     "metadata": {
      "image/png": {
       "height": 360,
       "width": 720
      },
      "text/plain": {
       "height": 360,
       "width": 720
      }
     },
     "output_type": "display_data"
    }
   ],
   "source": [
    "ggplot(train) + \n",
    "geom_bar(aes(x = State, fill = Churn), position = 'fill') +\n",
    "theme_minimal() +\n",
    "labs(y = 'proportion')"
   ]
  },
  {
   "cell_type": "code",
   "execution_count": 11,
   "metadata": {},
   "outputs": [
    {
     "data": {
      "image/png": "[encoded data removed]",
      "text/plain": [
       "plot without title"
      ]
     },
     "metadata": {
      "image/png": {
       "height": 360,
       "width": 720
      },
      "text/plain": {
       "height": 360,
       "width": 720
      }
     },
     "output_type": "display_data"
    }
   ],
   "source": [
    "ggplot(train) + \n",
    "geom_boxplot(aes(x = Churn, y = Account.Length)) +\n",
    "theme_minimal() +\n",
    "labs(y = 'Account Length')"
   ]
  },
  {
   "cell_type": "code",
   "execution_count": 12,
   "metadata": {},
   "outputs": [
    {
     "data": {
      "image/png": "[encoded data removed]",
      "text/plain": [
       "plot without title"
      ]
     },
     "metadata": {
      "image/png": {
       "height": 360,
       "width": 720
      },
      "text/plain": {
       "height": 360,
       "width": 720
      }
     },
     "output_type": "display_data"
    }
   ],
   "source": [
    "ggplot(train) + \n",
    "geom_boxplot(aes(x = Churn, y = CustServ.Calls)) +\n",
    "theme_minimal() +\n",
    "labs(y = 'Customer Service Calls')"
   ]
  },
  {
   "cell_type": "code",
   "execution_count": 13,
   "metadata": {},
   "outputs": [
    {
     "data": {
      "text/plain": [
       "   \n",
       "      0   1\n",
       "  0 419  70\n",
       "  1 720  85\n",
       "  2 473  61\n",
       "  3 272  30\n",
       "  4  72  58\n",
       "  5  19  27\n",
       "  6   5  12\n",
       "  7   4   4\n",
       "  8   0   1\n",
       "  9   0   2"
      ]
     },
     "metadata": {},
     "output_type": "display_data"
    }
   ],
   "source": [
    "table(train$CustServ.Calls, train$Churn)"
   ]
  },
  {
   "cell_type": "code",
   "execution_count": 14,
   "metadata": {},
   "outputs": [
    {
     "name": "stdout",
     "output_type": "stream",
     "text": [
      "'data.frame':\t20 obs. of  3 variables:\n",
      " $ calls: Factor w/ 10 levels \"0\",\"1\",\"2\",\"3\",..: 1 2 3 4 5 6 7 8 9 10 ...\n",
      " $ churn: Factor w/ 2 levels \"0\",\"1\": 1 1 1 1 1 1 1 1 1 1 ...\n",
      " $ count: int  419 720 473 272 72 19 5 4 0 0 ...\n"
     ]
    }
   ],
   "source": [
    "call_churn <- data.frame(table(train$CustServ.Calls, train$Churn))\n",
    "names(call_churn) <- c('calls', 'churn', 'count')\n",
    "str(call_churn)"
   ]
  },
  {
   "cell_type": "code",
   "execution_count": 15,
   "metadata": {},
   "outputs": [
    {
     "name": "stdout",
     "output_type": "stream",
     "text": [
      "'data.frame':\t20 obs. of  3 variables:\n",
      " $ calls: num  1 2 3 4 5 6 7 8 9 10 ...\n",
      " $ churn: Factor w/ 2 levels \"0\",\"1\": 1 1 1 1 1 1 1 1 1 1 ...\n",
      " $ count: int  419 720 473 272 72 19 5 4 0 0 ...\n"
     ]
    }
   ],
   "source": [
    "call_churn$calls <- as.numeric(call_churn$calls)\n",
    "str(call_churn)"
   ]
  },
  {
   "cell_type": "code",
   "execution_count": 16,
   "metadata": {},
   "outputs": [
    {
     "data": {
      "image/png": "[encoded data removed]",
      "text/plain": [
       "plot without title"
      ]
     },
     "metadata": {
      "image/png": {
       "height": 360,
       "width": 720
      },
      "text/plain": {
       "height": 360,
       "width": 720
      }
     },
     "output_type": "display_data"
    }
   ],
   "source": [
    "ggplot(call_churn) + \n",
    "geom_line(aes(x = calls, y = count)) + \n",
    "facet_wrap(~churn) +\n",
    "theme_minimal()"
   ]
  },
  {
   "cell_type": "code",
   "execution_count": null,
   "metadata": {},
   "outputs": [],
   "source": [
    "# drop Phone variable\n",
    "train$Phone <- NULL"
   ]
  },
  {
   "cell_type": "markdown",
   "metadata": {},
   "source": [
    "### Apply preprocess to test data"
   ]
  },
  {
   "cell_type": "code",
   "execution_count": 26,
   "metadata": {},
   "outputs": [],
   "source": [
    "test$Phone <- NULL"
   ]
  },
  {
   "cell_type": "code",
   "execution_count": 27,
   "metadata": {},
   "outputs": [],
   "source": [
    "test$State <- factor(test$State, levels = levels(train$State))\n",
    "test$Churn <- factor(test$Churn, levels = levels(train$Churn))\n",
    "test$Area.Code <- factor(test$Area.Code, levels = levels(train$Area.Code))"
   ]
  },
  {
   "cell_type": "code",
   "execution_count": 28,
   "metadata": {},
   "outputs": [
    {
     "name": "stdout",
     "output_type": "stream",
     "text": [
      "Classes 'tbl_df', 'tbl' and 'data.frame':\t999 obs. of  20 variables:\n",
      " $ Account.Length: num  128 121 141 74 95 73 174 57 20 57 ...\n",
      " $ VMail.Message : num  25 24 37 0 0 0 0 39 0 25 ...\n",
      " $ Day.Mins      : num  265 218 259 188 157 ...\n",
      " $ Eve.Mins      : num  197 348 222 163 248 ...\n",
      " $ Night.Mins    : num  245 213 326 196 192 ...\n",
      " $ Intl.Mins     : num  10 7.5 11.2 9.1 12.3 13 15.5 9.5 6.3 8.3 ...\n",
      " $ CustServ.Calls: num  1 3 0 0 3 1 3 0 0 0 ...\n",
      " $ Churn         : Factor w/ 2 levels \"0\",\"1\": 1 1 1 1 1 1 1 1 1 1 ...\n",
      " $ Int.l.Plan    : num  0 0 1 0 0 0 0 0 0 0 ...\n",
      " $ VMail.Plan    : num  1 1 1 0 0 0 0 1 0 1 ...\n",
      " $ Day.Calls     : num  110 88 84 127 88 90 76 115 109 94 ...\n",
      " $ Day.Charge    : num  45.1 37.1 44 31.9 26.6 ...\n",
      " $ Eve.Calls     : num  99 108 111 148 75 88 112 112 84 75 ...\n",
      " $ Eve.Charge    : num  16.8 29.6 18.9 13.9 21.1 ...\n",
      " $ Night.Calls   : num  91 118 97 94 115 74 115 115 102 116 ...\n",
      " $ Night.Charge  : num  11.01 9.57 14.69 8.82 8.65 ...\n",
      " $ Intl.Calls    : num  3 7 5 5 5 2 5 3 6 4 ...\n",
      " $ Intl.Charge   : num  2.7 2.03 3.02 2.46 3.32 3.51 4.19 2.57 1.7 2.24 ...\n",
      " $ State         : Factor w/ 51 levels \"AK\",\"AL\",\"AR\",..: 17 20 50 40 27 44 30 51 25 37 ...\n",
      " $ Area.Code     : Factor w/ 3 levels \"408\",\"415\",\"510\": 2 3 2 2 3 2 2 1 2 1 ...\n"
     ]
    }
   ],
   "source": [
    "str(test)"
   ]
  },
  {
   "cell_type": "markdown",
   "metadata": {},
   "source": [
    "### Models"
   ]
  },
  {
   "cell_type": "code",
   "execution_count": 21,
   "metadata": {},
   "outputs": [],
   "source": [
    "cv_folds <- createMultiFolds(train$Churn, k = 10, times = 3)\n",
    "cv_control <- trainControl(method = \"repeatedcv\", number = 10,\n",
    "                         repeats = 3, index = cv_folds)"
   ]
  },
  {
   "cell_type": "code",
   "execution_count": 22,
   "metadata": {},
   "outputs": [],
   "source": [
    "rpart_cv_m1 <- train(Churn ~ ., data = train, method = \"rpart\", \n",
    "                    trControl = cv_control, tuneLength = 7)"
   ]
  },
  {
   "cell_type": "code",
   "execution_count": 23,
   "metadata": {},
   "outputs": [
    {
     "data": {
      "text/plain": [
       "rpart variable importance\n",
       "\n",
       "  only 20 most important variables shown (out of 69)\n",
       "\n",
       "               Overall\n",
       "Day.Mins       100.000\n",
       "Day.Charge      98.420\n",
       "Int.l.Plan      73.324\n",
       "CustServ.Calls  72.766\n",
       "Intl.Mins       56.166\n",
       "Eve.Mins        51.517\n",
       "Eve.Charge      51.517\n",
       "Intl.Charge     49.164\n",
       "Intl.Calls      21.604\n",
       "VMail.Message   14.357\n",
       "VMail.Plan      14.357\n",
       "Night.Mins       9.484\n",
       "Day.Calls        3.351\n",
       "Night.Charge     3.024\n",
       "Night.Calls      1.717\n",
       "StateDE          0.000\n",
       "StateDC          0.000\n",
       "StateKS          0.000\n",
       "StateCA          0.000\n",
       "StateTN          0.000"
      ]
     },
     "metadata": {},
     "output_type": "display_data"
    }
   ],
   "source": [
    "varImp(rpart_cv_m1)"
   ]
  },
  {
   "cell_type": "code",
   "execution_count": 24,
   "metadata": {},
   "outputs": [
    {
     "data": {
      "text/plain": [
       "CART \n",
       "\n",
       "2334 samples\n",
       "  19 predictor\n",
       "   2 classes: '0', '1' \n",
       "\n",
       "No pre-processing\n",
       "Resampling: Cross-Validated (10 fold, repeated 3 times) \n",
       "Summary of sample sizes: 2101, 2100, 2100, 2101, 2101, 2101, ... \n",
       "Resampling results across tuning parameters:\n",
       "\n",
       "  cp          Accuracy   Kappa     \n",
       "  0.01428571  0.9411614  0.74791866\n",
       "  0.02142857  0.9341666  0.71422355\n",
       "  0.03142857  0.9304525  0.70010343\n",
       "  0.05285714  0.9130259  0.60747760\n",
       "  0.06571429  0.8935977  0.51364241\n",
       "  0.08285714  0.8746102  0.38720231\n",
       "  0.11142857  0.8508981  0.09785101\n",
       "\n",
       "Accuracy was used to select the optimal model using the largest value.\n",
       "The final value used for the model was cp = 0.01428571."
      ]
     },
     "metadata": {},
     "output_type": "display_data"
    }
   ],
   "source": [
    "rpart_cv_m1"
   ]
  },
  {
   "cell_type": "code",
   "execution_count": 25,
   "metadata": {},
   "outputs": [
    {
     "data": {
      "text/plain": [
       "Confusion Matrix and Statistics\n",
       "\n",
       "          Reference\n",
       "Prediction    0    1\n",
       "         0 1967   17\n",
       "         1  101  249\n",
       "                                         \n",
       "               Accuracy : 0.9494         \n",
       "                 95% CI : (0.9398, 0.958)\n",
       "    No Information Rate : 0.886          \n",
       "    P-Value [Acc > NIR] : < 2.2e-16      \n",
       "                                         \n",
       "                  Kappa : 0.7799         \n",
       "                                         \n",
       " Mcnemar's Test P-Value : 2.159e-14      \n",
       "                                         \n",
       "            Sensitivity : 0.9512         \n",
       "            Specificity : 0.9361         \n",
       "         Pos Pred Value : 0.9914         \n",
       "         Neg Pred Value : 0.7114         \n",
       "             Prevalence : 0.8860         \n",
       "         Detection Rate : 0.8428         \n",
       "   Detection Prevalence : 0.8500         \n",
       "      Balanced Accuracy : 0.9436         \n",
       "                                         \n",
       "       'Positive' Class : 0              \n",
       "                                         "
      ]
     },
     "metadata": {},
     "output_type": "display_data"
    }
   ],
   "source": [
    "confusionMatrix(train$Churn, predict(object = rpart_cv_m1, newdata = train))"
   ]
  },
  {
   "cell_type": "code",
   "execution_count": 29,
   "metadata": {},
   "outputs": [
    {
     "data": {
      "text/plain": [
       "Confusion Matrix and Statistics\n",
       "\n",
       "          Reference\n",
       "Prediction   0   1\n",
       "         0 853  13\n",
       "         1  47  86\n",
       "                                          \n",
       "               Accuracy : 0.9399          \n",
       "                 95% CI : (0.9234, 0.9539)\n",
       "    No Information Rate : 0.9009          \n",
       "    P-Value [Acc > NIR] : 6.893e-06       \n",
       "                                          \n",
       "                  Kappa : 0.7082          \n",
       "                                          \n",
       " Mcnemar's Test P-Value : 2.042e-05       \n",
       "                                          \n",
       "            Sensitivity : 0.9478          \n",
       "            Specificity : 0.8687          \n",
       "         Pos Pred Value : 0.9850          \n",
       "         Neg Pred Value : 0.6466          \n",
       "             Prevalence : 0.9009          \n",
       "         Detection Rate : 0.8539          \n",
       "   Detection Prevalence : 0.8669          \n",
       "      Balanced Accuracy : 0.9082          \n",
       "                                          \n",
       "       'Positive' Class : 0               \n",
       "                                          "
      ]
     },
     "metadata": {},
     "output_type": "display_data"
    }
   ],
   "source": [
    "confusionMatrix(test$Churn, predict(object = rpart_cv_m1, newdata = test))"
   ]
  },
  {
   "cell_type": "code",
   "execution_count": 32,
   "metadata": {},
   "outputs": [
    {
     "name": "stdout",
     "output_type": "stream",
     "text": [
      "Precision churn:  0.6466165 \n",
      "Recall churn:  0.8686869 \n",
      "F-Score churn:  0.7413793"
     ]
    }
   ],
   "source": [
    "# Precision: Of all people where we predicted churn what fraction actually is churn\n",
    "# Recall: Of all people that actually are churn, what fraction did we correcyly identified as churn\n",
    "\n",
    "cat(\"Precision churn: \", 86/(86+47), \"\\n\")\n",
    "cat(\"Recall churn: \", 86/(86+13), \"\\n\")\n",
    "cat(\"F-Score churn: \", 2*(86/(86+47) * 86/(86+13)) / (86/(86+47) + 86/(86+13)))"
   ]
  },
  {
   "cell_type": "code",
   "execution_count": 33,
   "metadata": {},
   "outputs": [
    {
     "data": {
      "image/png": "[encoded data removed]",
      "text/plain": [
       "plot without title"
      ]
     },
     "metadata": {
      "image/png": {
       "height": 360,
       "width": 720
      },
      "text/plain": {
       "height": 360,
       "width": 720
      }
     },
     "output_type": "display_data"
    }
   ],
   "source": [
    "plot(rpart_cv_m1$finalModel)\n",
    "text(rpart_cv_m1$finalModel, cex=.8)"
   ]
  },
  {
   "cell_type": "code",
   "execution_count": 34,
   "metadata": {},
   "outputs": [
    {
     "data": {
      "text/html": [
       "<table>\n",
       "<caption>A data.frame: 7 × 6</caption>\n",
       "<thead>\n",
       "\t<tr><th></th><th scope=col>model</th><th scope=col>parameter</th><th scope=col>label</th><th scope=col>forReg</th><th scope=col>forClass</th><th scope=col>probModel</th></tr>\n",
       "\t<tr><th></th><th scope=col>&lt;chr&gt;</th><th scope=col>&lt;fct&gt;</th><th scope=col>&lt;fct&gt;</th><th scope=col>&lt;lgl&gt;</th><th scope=col>&lt;lgl&gt;</th><th scope=col>&lt;lgl&gt;</th></tr>\n",
       "</thead>\n",
       "<tbody>\n",
       "\t<tr><th scope=row>1</th><td>xgbTree</td><td>nrounds         </td><td># Boosting Iterations         </td><td>TRUE</td><td>TRUE</td><td>TRUE</td></tr>\n",
       "\t<tr><th scope=row>2</th><td>xgbTree</td><td>max_depth       </td><td>Max Tree Depth                </td><td>TRUE</td><td>TRUE</td><td>TRUE</td></tr>\n",
       "\t<tr><th scope=row>3</th><td>xgbTree</td><td>eta             </td><td>Shrinkage                     </td><td>TRUE</td><td>TRUE</td><td>TRUE</td></tr>\n",
       "\t<tr><th scope=row>4</th><td>xgbTree</td><td>gamma           </td><td>Minimum Loss Reduction        </td><td>TRUE</td><td>TRUE</td><td>TRUE</td></tr>\n",
       "\t<tr><th scope=row>5</th><td>xgbTree</td><td>colsample_bytree</td><td>Subsample Ratio of Columns    </td><td>TRUE</td><td>TRUE</td><td>TRUE</td></tr>\n",
       "\t<tr><th scope=row>6</th><td>xgbTree</td><td>min_child_weight</td><td>Minimum Sum of Instance Weight</td><td>TRUE</td><td>TRUE</td><td>TRUE</td></tr>\n",
       "\t<tr><th scope=row>7</th><td>xgbTree</td><td>subsample       </td><td>Subsample Percentage          </td><td>TRUE</td><td>TRUE</td><td>TRUE</td></tr>\n",
       "</tbody>\n",
       "</table>\n"
      ],
      "text/latex": [
       "A data.frame: 7 × 6\n",
       "\\begin{tabular}{r|llllll}\n",
       "  & model & parameter & label & forReg & forClass & probModel\\\\\n",
       "  & <chr> & <fct> & <fct> & <lgl> & <lgl> & <lgl>\\\\\n",
       "\\hline\n",
       "\t1 & xgbTree & nrounds          & \\# Boosting Iterations          & TRUE & TRUE & TRUE\\\\\n",
       "\t2 & xgbTree & max\\_depth        & Max Tree Depth                 & TRUE & TRUE & TRUE\\\\\n",
       "\t3 & xgbTree & eta              & Shrinkage                      & TRUE & TRUE & TRUE\\\\\n",
       "\t4 & xgbTree & gamma            & Minimum Loss Reduction         & TRUE & TRUE & TRUE\\\\\n",
       "\t5 & xgbTree & colsample\\_bytree & Subsample Ratio of Columns     & TRUE & TRUE & TRUE\\\\\n",
       "\t6 & xgbTree & min\\_child\\_weight & Minimum Sum of Instance Weight & TRUE & TRUE & TRUE\\\\\n",
       "\t7 & xgbTree & subsample        & Subsample Percentage           & TRUE & TRUE & TRUE\\\\\n",
       "\\end{tabular}\n"
      ],
      "text/markdown": [
       "\n",
       "A data.frame: 7 × 6\n",
       "\n",
       "| <!--/--> | model &lt;chr&gt; | parameter &lt;fct&gt; | label &lt;fct&gt; | forReg &lt;lgl&gt; | forClass &lt;lgl&gt; | probModel &lt;lgl&gt; |\n",
       "|---|---|---|---|---|---|---|\n",
       "| 1 | xgbTree | nrounds          | # Boosting Iterations          | TRUE | TRUE | TRUE |\n",
       "| 2 | xgbTree | max_depth        | Max Tree Depth                 | TRUE | TRUE | TRUE |\n",
       "| 3 | xgbTree | eta              | Shrinkage                      | TRUE | TRUE | TRUE |\n",
       "| 4 | xgbTree | gamma            | Minimum Loss Reduction         | TRUE | TRUE | TRUE |\n",
       "| 5 | xgbTree | colsample_bytree | Subsample Ratio of Columns     | TRUE | TRUE | TRUE |\n",
       "| 6 | xgbTree | min_child_weight | Minimum Sum of Instance Weight | TRUE | TRUE | TRUE |\n",
       "| 7 | xgbTree | subsample        | Subsample Percentage           | TRUE | TRUE | TRUE |\n",
       "\n"
      ],
      "text/plain": [
       "  model   parameter        label                          forReg forClass\n",
       "1 xgbTree nrounds          # Boosting Iterations          TRUE   TRUE    \n",
       "2 xgbTree max_depth        Max Tree Depth                 TRUE   TRUE    \n",
       "3 xgbTree eta              Shrinkage                      TRUE   TRUE    \n",
       "4 xgbTree gamma            Minimum Loss Reduction         TRUE   TRUE    \n",
       "5 xgbTree colsample_bytree Subsample Ratio of Columns     TRUE   TRUE    \n",
       "6 xgbTree min_child_weight Minimum Sum of Instance Weight TRUE   TRUE    \n",
       "7 xgbTree subsample        Subsample Percentage           TRUE   TRUE    \n",
       "  probModel\n",
       "1 TRUE     \n",
       "2 TRUE     \n",
       "3 TRUE     \n",
       "4 TRUE     \n",
       "5 TRUE     \n",
       "6 TRUE     \n",
       "7 TRUE     "
      ]
     },
     "metadata": {},
     "output_type": "display_data"
    }
   ],
   "source": [
    "modelLookup('xgbTree')"
   ]
  },
  {
   "cell_type": "code",
   "execution_count": 35,
   "metadata": {},
   "outputs": [],
   "source": [
    "xgboost_cv_m1 <- train(Churn ~ ., data = train, method = \"xgbTree\", \n",
    "                    trControl = cv_control, tuneLength = 7)"
   ]
  },
  {
   "cell_type": "code",
   "execution_count": 36,
   "metadata": {},
   "outputs": [],
   "source": [
    "saveRDS(xgboost_cv_m1, \"./models/xgboost_cv_m1.rds\")"
   ]
  },
  {
   "cell_type": "code",
   "execution_count": 37,
   "metadata": {},
   "outputs": [
    {
     "data": {
      "text/html": [
       "<table>\n",
       "<caption>A data.frame: 1 × 7</caption>\n",
       "<thead>\n",
       "\t<tr><th></th><th scope=col>nrounds</th><th scope=col>max_depth</th><th scope=col>eta</th><th scope=col>gamma</th><th scope=col>colsample_bytree</th><th scope=col>min_child_weight</th><th scope=col>subsample</th></tr>\n",
       "\t<tr><th></th><th scope=col>&lt;dbl&gt;</th><th scope=col>&lt;int&gt;</th><th scope=col>&lt;dbl&gt;</th><th scope=col>&lt;dbl&gt;</th><th scope=col>&lt;dbl&gt;</th><th scope=col>&lt;dbl&gt;</th><th scope=col>&lt;dbl&gt;</th></tr>\n",
       "</thead>\n",
       "<tbody>\n",
       "\t<tr><th scope=row>683</th><td>200</td><td>7</td><td>0.3</td><td>0</td><td>0.8</td><td>1</td><td>1</td></tr>\n",
       "</tbody>\n",
       "</table>\n"
      ],
      "text/latex": [
       "A data.frame: 1 × 7\n",
       "\\begin{tabular}{r|lllllll}\n",
       "  & nrounds & max\\_depth & eta & gamma & colsample\\_bytree & min\\_child\\_weight & subsample\\\\\n",
       "  & <dbl> & <int> & <dbl> & <dbl> & <dbl> & <dbl> & <dbl>\\\\\n",
       "\\hline\n",
       "\t683 & 200 & 7 & 0.3 & 0 & 0.8 & 1 & 1\\\\\n",
       "\\end{tabular}\n"
      ],
      "text/markdown": [
       "\n",
       "A data.frame: 1 × 7\n",
       "\n",
       "| <!--/--> | nrounds &lt;dbl&gt; | max_depth &lt;int&gt; | eta &lt;dbl&gt; | gamma &lt;dbl&gt; | colsample_bytree &lt;dbl&gt; | min_child_weight &lt;dbl&gt; | subsample &lt;dbl&gt; |\n",
       "|---|---|---|---|---|---|---|---|\n",
       "| 683 | 200 | 7 | 0.3 | 0 | 0.8 | 1 | 1 |\n",
       "\n"
      ],
      "text/plain": [
       "    nrounds max_depth eta gamma colsample_bytree min_child_weight subsample\n",
       "683 200     7         0.3 0     0.8              1                1        "
      ]
     },
     "metadata": {},
     "output_type": "display_data"
    }
   ],
   "source": [
    "xgboost_cv_m1$bestTune"
   ]
  },
  {
   "cell_type": "code",
   "execution_count": 38,
   "metadata": {},
   "outputs": [
    {
     "data": {
      "text/plain": [
       "xgbTree variable importance\n",
       "\n",
       "  only 20 most important variables shown (out of 69)\n",
       "\n",
       "                Overall\n",
       "Day.Mins       100.0000\n",
       "Eve.Mins        56.7099\n",
       "CustServ.Calls  47.9683\n",
       "Intl.Mins       36.4386\n",
       "Int.l.Plan      33.8129\n",
       "Intl.Calls      30.3857\n",
       "VMail.Message   27.6021\n",
       "Night.Mins      24.7591\n",
       "Day.Charge      19.6686\n",
       "Eve.Charge      11.9447\n",
       "Account.Length  11.9431\n",
       "Day.Calls       11.6548\n",
       "Eve.Calls       10.0037\n",
       "Night.Calls      9.9639\n",
       "Night.Charge     3.1785\n",
       "Intl.Charge      2.8446\n",
       "VMail.Plan       1.6828\n",
       "Area.Code415     1.6394\n",
       "StateTX          1.5529\n",
       "StateNJ          0.8542"
      ]
     },
     "metadata": {},
     "output_type": "display_data"
    }
   ],
   "source": [
    "varImp(xgboost_cv_m1)"
   ]
  },
  {
   "cell_type": "code",
   "execution_count": 39,
   "metadata": {},
   "outputs": [
    {
     "data": {
      "text/plain": [
       "Confusion Matrix and Statistics\n",
       "\n",
       "          Reference\n",
       "Prediction    0    1\n",
       "         0 1984    0\n",
       "         1    0  350\n",
       "                                     \n",
       "               Accuracy : 1          \n",
       "                 95% CI : (0.9984, 1)\n",
       "    No Information Rate : 0.85       \n",
       "    P-Value [Acc > NIR] : < 2.2e-16  \n",
       "                                     \n",
       "                  Kappa : 1          \n",
       "                                     \n",
       " Mcnemar's Test P-Value : NA         \n",
       "                                     \n",
       "            Sensitivity : 1.00       \n",
       "            Specificity : 1.00       \n",
       "         Pos Pred Value : 1.00       \n",
       "         Neg Pred Value : 1.00       \n",
       "             Prevalence : 0.85       \n",
       "         Detection Rate : 0.85       \n",
       "   Detection Prevalence : 0.85       \n",
       "      Balanced Accuracy : 1.00       \n",
       "                                     \n",
       "       'Positive' Class : 0          \n",
       "                                     "
      ]
     },
     "metadata": {},
     "output_type": "display_data"
    }
   ],
   "source": [
    "confusionMatrix(train$Churn, predict(object = xgboost_cv_m1, newdata = train))"
   ]
  },
  {
   "cell_type": "code",
   "execution_count": 40,
   "metadata": {},
   "outputs": [
    {
     "data": {
      "text/plain": [
       "Confusion Matrix and Statistics\n",
       "\n",
       "          Reference\n",
       "Prediction   0   1\n",
       "         0 856  10\n",
       "         1  38  95\n",
       "                                          \n",
       "               Accuracy : 0.952           \n",
       "                 95% CI : (0.9368, 0.9644)\n",
       "    No Information Rate : 0.8949          \n",
       "    P-Value [Acc > NIR] : 6.289e-11       \n",
       "                                          \n",
       "                  Kappa : 0.7715          \n",
       "                                          \n",
       " Mcnemar's Test P-Value : 9.735e-05       \n",
       "                                          \n",
       "            Sensitivity : 0.9575          \n",
       "            Specificity : 0.9048          \n",
       "         Pos Pred Value : 0.9885          \n",
       "         Neg Pred Value : 0.7143          \n",
       "             Prevalence : 0.8949          \n",
       "         Detection Rate : 0.8569          \n",
       "   Detection Prevalence : 0.8669          \n",
       "      Balanced Accuracy : 0.9311          \n",
       "                                          \n",
       "       'Positive' Class : 0               \n",
       "                                          "
      ]
     },
     "metadata": {},
     "output_type": "display_data"
    }
   ],
   "source": [
    "confusionMatrix(test$Churn, predict(object = xgboost_cv_m1, newdata = test))"
   ]
  },
  {
   "cell_type": "code",
   "execution_count": 41,
   "metadata": {},
   "outputs": [
    {
     "name": "stdout",
     "output_type": "stream",
     "text": [
      "Precision churn:  0.7142857 \n",
      "Recall churn:  0.9047619 \n",
      "F-Score churn:  0.7983193"
     ]
    }
   ],
   "source": [
    "# Precision: Of all people where we predicted churn what fraction actually is churn\n",
    "# Recall: Of all people that actually are churn, what fraction did we correcyly identified as churn\n",
    "\n",
    "cat(\"Precision churn: \", 95/(95+38), \"\\n\")\n",
    "cat(\"Recall churn: \", 95/(95+10), \"\\n\")\n",
    "cat(\"F-Score churn: \", 2*(95/(95+38) * 95/(95+10))/(95/(95+38) + 95/(95+10)))"
   ]
  },
  {
   "cell_type": "code",
   "execution_count": 42,
   "metadata": {},
   "outputs": [],
   "source": [
    "# TODO\n",
    "# try feature engineering\n",
    "# transform area code to factor\n",
    "# try other methods\n",
    "# try cluster then predict"
   ]
  },
  {
   "cell_type": "code",
   "execution_count": 43,
   "metadata": {},
   "outputs": [
    {
     "data": {
      "text/html": [
       "<style>\n",
       ".list-inline {list-style: none; margin:0; padding: 0}\n",
       ".list-inline>li {display: inline-block}\n",
       ".list-inline>li:not(:last-child)::after {content: \"\\00b7\"; padding: 0 .5ex}\n",
       "</style>\n",
       "<ol class=list-inline><li>'ada'</li><li>'AdaBag'</li><li>'AdaBoost.M1'</li><li>'adaboost'</li><li>'amdai'</li><li>'ANFIS'</li><li>'avNNet'</li><li>'awnb'</li><li>'awtan'</li><li>'bag'</li><li>'bagEarth'</li><li>'bagEarthGCV'</li><li>'bagFDA'</li><li>'bagFDAGCV'</li><li>'bam'</li><li>'bartMachine'</li><li>'bayesglm'</li><li>'binda'</li><li>'blackboost'</li><li>'blasso'</li><li>'blassoAveraged'</li><li>'bridge'</li><li>'brnn'</li><li>'BstLm'</li><li>'bstSm'</li><li>'bstTree'</li><li>'C5.0'</li><li>'C5.0Cost'</li><li>'C5.0Rules'</li><li>'C5.0Tree'</li><li>'cforest'</li><li>'chaid'</li><li>'CSimca'</li><li>'ctree'</li><li>'ctree2'</li><li>'cubist'</li><li>'dda'</li><li>'deepboost'</li><li>'DENFIS'</li><li>'dnn'</li><li>'dwdLinear'</li><li>'dwdPoly'</li><li>'dwdRadial'</li><li>'earth'</li><li>'elm'</li><li>'enet'</li><li>'evtree'</li><li>'extraTrees'</li><li>'fda'</li><li>'FH.GBML'</li><li>'FIR.DM'</li><li>'foba'</li><li>'FRBCS.CHI'</li><li>'FRBCS.W'</li><li>'FS.HGD'</li><li>'gam'</li><li>'gamboost'</li><li>'gamLoess'</li><li>'gamSpline'</li><li>'gaussprLinear'</li><li>'gaussprPoly'</li><li>'gaussprRadial'</li><li>'gbm_h2o'</li><li>'gbm'</li><li>'gcvEarth'</li><li>'GFS.FR.MOGUL'</li><li>'GFS.LT.RS'</li><li>'GFS.THRIFT'</li><li>'glm.nb'</li><li>'glm'</li><li>'glmboost'</li><li>'glmnet_h2o'</li><li>'glmnet'</li><li>'glmStepAIC'</li><li>'gpls'</li><li>'hda'</li><li>'hdda'</li><li>'hdrda'</li><li>'HYFIS'</li><li>'icr'</li><li>'J48'</li><li>'JRip'</li><li>'kernelpls'</li><li>'kknn'</li><li>'knn'</li><li>'krlsPoly'</li><li>'krlsRadial'</li><li>'lars'</li><li>'lars2'</li><li>'lasso'</li><li>'lda'</li><li>'lda2'</li><li>'leapBackward'</li><li>'leapForward'</li><li>'leapSeq'</li><li>'Linda'</li><li>'lm'</li><li>'lmStepAIC'</li><li>'LMT'</li><li>'loclda'</li><li>'logicBag'</li><li>'LogitBoost'</li><li>'logreg'</li><li>'lssvmLinear'</li><li>'lssvmPoly'</li><li>'lssvmRadial'</li><li>'lvq'</li><li>'M5'</li><li>'M5Rules'</li><li>'manb'</li><li>'mda'</li><li>'Mlda'</li><li>'mlp'</li><li>'mlpKerasDecay'</li><li>'mlpKerasDecayCost'</li><li>'mlpKerasDropout'</li><li>'mlpKerasDropoutCost'</li><li>'mlpML'</li><li>'mlpSGD'</li><li>'mlpWeightDecay'</li><li>'mlpWeightDecayML'</li><li>'monmlp'</li><li>'msaenet'</li><li>'multinom'</li><li>'mxnet'</li><li>'mxnetAdam'</li><li>'naive_bayes'</li><li>'nb'</li><li>'nbDiscrete'</li><li>'nbSearch'</li><li>'neuralnet'</li><li>'nnet'</li><li>'nnls'</li><li>'nodeHarvest'</li><li>'null'</li><li>'OneR'</li><li>'ordinalNet'</li><li>'ordinalRF'</li><li>'ORFlog'</li><li>'ORFpls'</li><li>'ORFridge'</li><li>'ORFsvm'</li><li>'ownn'</li><li>'pam'</li><li>'parRF'</li><li>'PART'</li><li>'partDSA'</li><li>'pcaNNet'</li><li>'pcr'</li><li>'pda'</li><li>'pda2'</li><li>'penalized'</li><li>'PenalizedLDA'</li><li>'plr'</li><li>'pls'</li><li>'plsRglm'</li><li>'polr'</li><li>'ppr'</li><li>'PRIM'</li><li>'protoclass'</li><li>'qda'</li><li>'QdaCov'</li><li>'qrf'</li><li>'qrnn'</li><li>'randomGLM'</li><li>'ranger'</li><li>'rbf'</li><li>'rbfDDA'</li><li>'Rborist'</li><li>'rda'</li><li>'regLogistic'</li><li>'relaxo'</li><li>'rf'</li><li>'rFerns'</li><li>'RFlda'</li><li>'rfRules'</li><li>'ridge'</li><li>'rlda'</li><li>'rlm'</li><li>'rmda'</li><li>'rocc'</li><li>'rotationForest'</li><li>'rotationForestCp'</li><li>'rpart'</li><li>'rpart1SE'</li><li>'rpart2'</li><li>'rpartCost'</li><li>'rpartScore'</li><li>'rqlasso'</li><li>'rqnc'</li><li>'RRF'</li><li>'RRFglobal'</li><li>'rrlda'</li><li>'RSimca'</li><li>'rvmLinear'</li><li>'rvmPoly'</li><li>'rvmRadial'</li><li>'SBC'</li><li>'sda'</li><li>'sdwd'</li><li>'simpls'</li><li>'SLAVE'</li><li>'slda'</li><li>'smda'</li><li>'snn'</li><li>'sparseLDA'</li><li>'spikeslab'</li><li>'spls'</li><li>'stepLDA'</li><li>'stepQDA'</li><li>'superpc'</li><li>'svmBoundrangeString'</li><li>'svmExpoString'</li><li>'svmLinear'</li><li>'svmLinear2'</li><li>'svmLinear3'</li><li>'svmLinearWeights'</li><li>'svmLinearWeights2'</li><li>'svmPoly'</li><li>'svmRadial'</li><li>'svmRadialCost'</li><li>'svmRadialSigma'</li><li>'svmRadialWeights'</li><li>'svmSpectrumString'</li><li>'tan'</li><li>'tanSearch'</li><li>'treebag'</li><li>'vbmpRadial'</li><li>'vglmAdjCat'</li><li>'vglmContRatio'</li><li>'vglmCumulative'</li><li>'widekernelpls'</li><li>'WM'</li><li>'wsrf'</li><li>'xgbDART'</li><li>'xgbLinear'</li><li>'xgbTree'</li><li>'xyf'</li></ol>\n"
      ],
      "text/latex": [
       "\\begin{enumerate*}\n",
       "\\item 'ada'\n",
       "\\item 'AdaBag'\n",
       "\\item 'AdaBoost.M1'\n",
       "\\item 'adaboost'\n",
       "\\item 'amdai'\n",
       "\\item 'ANFIS'\n",
       "\\item 'avNNet'\n",
       "\\item 'awnb'\n",
       "\\item 'awtan'\n",
       "\\item 'bag'\n",
       "\\item 'bagEarth'\n",
       "\\item 'bagEarthGCV'\n",
       "\\item 'bagFDA'\n",
       "\\item 'bagFDAGCV'\n",
       "\\item 'bam'\n",
       "\\item 'bartMachine'\n",
       "\\item 'bayesglm'\n",
       "\\item 'binda'\n",
       "\\item 'blackboost'\n",
       "\\item 'blasso'\n",
       "\\item 'blassoAveraged'\n",
       "\\item 'bridge'\n",
       "\\item 'brnn'\n",
       "\\item 'BstLm'\n",
       "\\item 'bstSm'\n",
       "\\item 'bstTree'\n",
       "\\item 'C5.0'\n",
       "\\item 'C5.0Cost'\n",
       "\\item 'C5.0Rules'\n",
       "\\item 'C5.0Tree'\n",
       "\\item 'cforest'\n",
       "\\item 'chaid'\n",
       "\\item 'CSimca'\n",
       "\\item 'ctree'\n",
       "\\item 'ctree2'\n",
       "\\item 'cubist'\n",
       "\\item 'dda'\n",
       "\\item 'deepboost'\n",
       "\\item 'DENFIS'\n",
       "\\item 'dnn'\n",
       "\\item 'dwdLinear'\n",
       "\\item 'dwdPoly'\n",
       "\\item 'dwdRadial'\n",
       "\\item 'earth'\n",
       "\\item 'elm'\n",
       "\\item 'enet'\n",
       "\\item 'evtree'\n",
       "\\item 'extraTrees'\n",
       "\\item 'fda'\n",
       "\\item 'FH.GBML'\n",
       "\\item 'FIR.DM'\n",
       "\\item 'foba'\n",
       "\\item 'FRBCS.CHI'\n",
       "\\item 'FRBCS.W'\n",
       "\\item 'FS.HGD'\n",
       "\\item 'gam'\n",
       "\\item 'gamboost'\n",
       "\\item 'gamLoess'\n",
       "\\item 'gamSpline'\n",
       "\\item 'gaussprLinear'\n",
       "\\item 'gaussprPoly'\n",
       "\\item 'gaussprRadial'\n",
       "\\item 'gbm\\_h2o'\n",
       "\\item 'gbm'\n",
       "\\item 'gcvEarth'\n",
       "\\item 'GFS.FR.MOGUL'\n",
       "\\item 'GFS.LT.RS'\n",
       "\\item 'GFS.THRIFT'\n",
       "\\item 'glm.nb'\n",
       "\\item 'glm'\n",
       "\\item 'glmboost'\n",
       "\\item 'glmnet\\_h2o'\n",
       "\\item 'glmnet'\n",
       "\\item 'glmStepAIC'\n",
       "\\item 'gpls'\n",
       "\\item 'hda'\n",
       "\\item 'hdda'\n",
       "\\item 'hdrda'\n",
       "\\item 'HYFIS'\n",
       "\\item 'icr'\n",
       "\\item 'J48'\n",
       "\\item 'JRip'\n",
       "\\item 'kernelpls'\n",
       "\\item 'kknn'\n",
       "\\item 'knn'\n",
       "\\item 'krlsPoly'\n",
       "\\item 'krlsRadial'\n",
       "\\item 'lars'\n",
       "\\item 'lars2'\n",
       "\\item 'lasso'\n",
       "\\item 'lda'\n",
       "\\item 'lda2'\n",
       "\\item 'leapBackward'\n",
       "\\item 'leapForward'\n",
       "\\item 'leapSeq'\n",
       "\\item 'Linda'\n",
       "\\item 'lm'\n",
       "\\item 'lmStepAIC'\n",
       "\\item 'LMT'\n",
       "\\item 'loclda'\n",
       "\\item 'logicBag'\n",
       "\\item 'LogitBoost'\n",
       "\\item 'logreg'\n",
       "\\item 'lssvmLinear'\n",
       "\\item 'lssvmPoly'\n",
       "\\item 'lssvmRadial'\n",
       "\\item 'lvq'\n",
       "\\item 'M5'\n",
       "\\item 'M5Rules'\n",
       "\\item 'manb'\n",
       "\\item 'mda'\n",
       "\\item 'Mlda'\n",
       "\\item 'mlp'\n",
       "\\item 'mlpKerasDecay'\n",
       "\\item 'mlpKerasDecayCost'\n",
       "\\item 'mlpKerasDropout'\n",
       "\\item 'mlpKerasDropoutCost'\n",
       "\\item 'mlpML'\n",
       "\\item 'mlpSGD'\n",
       "\\item 'mlpWeightDecay'\n",
       "\\item 'mlpWeightDecayML'\n",
       "\\item 'monmlp'\n",
       "\\item 'msaenet'\n",
       "\\item 'multinom'\n",
       "\\item 'mxnet'\n",
       "\\item 'mxnetAdam'\n",
       "\\item 'naive\\_bayes'\n",
       "\\item 'nb'\n",
       "\\item 'nbDiscrete'\n",
       "\\item 'nbSearch'\n",
       "\\item 'neuralnet'\n",
       "\\item 'nnet'\n",
       "\\item 'nnls'\n",
       "\\item 'nodeHarvest'\n",
       "\\item 'null'\n",
       "\\item 'OneR'\n",
       "\\item 'ordinalNet'\n",
       "\\item 'ordinalRF'\n",
       "\\item 'ORFlog'\n",
       "\\item 'ORFpls'\n",
       "\\item 'ORFridge'\n",
       "\\item 'ORFsvm'\n",
       "\\item 'ownn'\n",
       "\\item 'pam'\n",
       "\\item 'parRF'\n",
       "\\item 'PART'\n",
       "\\item 'partDSA'\n",
       "\\item 'pcaNNet'\n",
       "\\item 'pcr'\n",
       "\\item 'pda'\n",
       "\\item 'pda2'\n",
       "\\item 'penalized'\n",
       "\\item 'PenalizedLDA'\n",
       "\\item 'plr'\n",
       "\\item 'pls'\n",
       "\\item 'plsRglm'\n",
       "\\item 'polr'\n",
       "\\item 'ppr'\n",
       "\\item 'PRIM'\n",
       "\\item 'protoclass'\n",
       "\\item 'qda'\n",
       "\\item 'QdaCov'\n",
       "\\item 'qrf'\n",
       "\\item 'qrnn'\n",
       "\\item 'randomGLM'\n",
       "\\item 'ranger'\n",
       "\\item 'rbf'\n",
       "\\item 'rbfDDA'\n",
       "\\item 'Rborist'\n",
       "\\item 'rda'\n",
       "\\item 'regLogistic'\n",
       "\\item 'relaxo'\n",
       "\\item 'rf'\n",
       "\\item 'rFerns'\n",
       "\\item 'RFlda'\n",
       "\\item 'rfRules'\n",
       "\\item 'ridge'\n",
       "\\item 'rlda'\n",
       "\\item 'rlm'\n",
       "\\item 'rmda'\n",
       "\\item 'rocc'\n",
       "\\item 'rotationForest'\n",
       "\\item 'rotationForestCp'\n",
       "\\item 'rpart'\n",
       "\\item 'rpart1SE'\n",
       "\\item 'rpart2'\n",
       "\\item 'rpartCost'\n",
       "\\item 'rpartScore'\n",
       "\\item 'rqlasso'\n",
       "\\item 'rqnc'\n",
       "\\item 'RRF'\n",
       "\\item 'RRFglobal'\n",
       "\\item 'rrlda'\n",
       "\\item 'RSimca'\n",
       "\\item 'rvmLinear'\n",
       "\\item 'rvmPoly'\n",
       "\\item 'rvmRadial'\n",
       "\\item 'SBC'\n",
       "\\item 'sda'\n",
       "\\item 'sdwd'\n",
       "\\item 'simpls'\n",
       "\\item 'SLAVE'\n",
       "\\item 'slda'\n",
       "\\item 'smda'\n",
       "\\item 'snn'\n",
       "\\item 'sparseLDA'\n",
       "\\item 'spikeslab'\n",
       "\\item 'spls'\n",
       "\\item 'stepLDA'\n",
       "\\item 'stepQDA'\n",
       "\\item 'superpc'\n",
       "\\item 'svmBoundrangeString'\n",
       "\\item 'svmExpoString'\n",
       "\\item 'svmLinear'\n",
       "\\item 'svmLinear2'\n",
       "\\item 'svmLinear3'\n",
       "\\item 'svmLinearWeights'\n",
       "\\item 'svmLinearWeights2'\n",
       "\\item 'svmPoly'\n",
       "\\item 'svmRadial'\n",
       "\\item 'svmRadialCost'\n",
       "\\item 'svmRadialSigma'\n",
       "\\item 'svmRadialWeights'\n",
       "\\item 'svmSpectrumString'\n",
       "\\item 'tan'\n",
       "\\item 'tanSearch'\n",
       "\\item 'treebag'\n",
       "\\item 'vbmpRadial'\n",
       "\\item 'vglmAdjCat'\n",
       "\\item 'vglmContRatio'\n",
       "\\item 'vglmCumulative'\n",
       "\\item 'widekernelpls'\n",
       "\\item 'WM'\n",
       "\\item 'wsrf'\n",
       "\\item 'xgbDART'\n",
       "\\item 'xgbLinear'\n",
       "\\item 'xgbTree'\n",
       "\\item 'xyf'\n",
       "\\end{enumerate*}\n"
      ],
      "text/markdown": [
       "1. 'ada'\n",
       "2. 'AdaBag'\n",
       "3. 'AdaBoost.M1'\n",
       "4. 'adaboost'\n",
       "5. 'amdai'\n",
       "6. 'ANFIS'\n",
       "7. 'avNNet'\n",
       "8. 'awnb'\n",
       "9. 'awtan'\n",
       "10. 'bag'\n",
       "11. 'bagEarth'\n",
       "12. 'bagEarthGCV'\n",
       "13. 'bagFDA'\n",
       "14. 'bagFDAGCV'\n",
       "15. 'bam'\n",
       "16. 'bartMachine'\n",
       "17. 'bayesglm'\n",
       "18. 'binda'\n",
       "19. 'blackboost'\n",
       "20. 'blasso'\n",
       "21. 'blassoAveraged'\n",
       "22. 'bridge'\n",
       "23. 'brnn'\n",
       "24. 'BstLm'\n",
       "25. 'bstSm'\n",
       "26. 'bstTree'\n",
       "27. 'C5.0'\n",
       "28. 'C5.0Cost'\n",
       "29. 'C5.0Rules'\n",
       "30. 'C5.0Tree'\n",
       "31. 'cforest'\n",
       "32. 'chaid'\n",
       "33. 'CSimca'\n",
       "34. 'ctree'\n",
       "35. 'ctree2'\n",
       "36. 'cubist'\n",
       "37. 'dda'\n",
       "38. 'deepboost'\n",
       "39. 'DENFIS'\n",
       "40. 'dnn'\n",
       "41. 'dwdLinear'\n",
       "42. 'dwdPoly'\n",
       "43. 'dwdRadial'\n",
       "44. 'earth'\n",
       "45. 'elm'\n",
       "46. 'enet'\n",
       "47. 'evtree'\n",
       "48. 'extraTrees'\n",
       "49. 'fda'\n",
       "50. 'FH.GBML'\n",
       "51. 'FIR.DM'\n",
       "52. 'foba'\n",
       "53. 'FRBCS.CHI'\n",
       "54. 'FRBCS.W'\n",
       "55. 'FS.HGD'\n",
       "56. 'gam'\n",
       "57. 'gamboost'\n",
       "58. 'gamLoess'\n",
       "59. 'gamSpline'\n",
       "60. 'gaussprLinear'\n",
       "61. 'gaussprPoly'\n",
       "62. 'gaussprRadial'\n",
       "63. 'gbm_h2o'\n",
       "64. 'gbm'\n",
       "65. 'gcvEarth'\n",
       "66. 'GFS.FR.MOGUL'\n",
       "67. 'GFS.LT.RS'\n",
       "68. 'GFS.THRIFT'\n",
       "69. 'glm.nb'\n",
       "70. 'glm'\n",
       "71. 'glmboost'\n",
       "72. 'glmnet_h2o'\n",
       "73. 'glmnet'\n",
       "74. 'glmStepAIC'\n",
       "75. 'gpls'\n",
       "76. 'hda'\n",
       "77. 'hdda'\n",
       "78. 'hdrda'\n",
       "79. 'HYFIS'\n",
       "80. 'icr'\n",
       "81. 'J48'\n",
       "82. 'JRip'\n",
       "83. 'kernelpls'\n",
       "84. 'kknn'\n",
       "85. 'knn'\n",
       "86. 'krlsPoly'\n",
       "87. 'krlsRadial'\n",
       "88. 'lars'\n",
       "89. 'lars2'\n",
       "90. 'lasso'\n",
       "91. 'lda'\n",
       "92. 'lda2'\n",
       "93. 'leapBackward'\n",
       "94. 'leapForward'\n",
       "95. 'leapSeq'\n",
       "96. 'Linda'\n",
       "97. 'lm'\n",
       "98. 'lmStepAIC'\n",
       "99. 'LMT'\n",
       "100. 'loclda'\n",
       "101. 'logicBag'\n",
       "102. 'LogitBoost'\n",
       "103. 'logreg'\n",
       "104. 'lssvmLinear'\n",
       "105. 'lssvmPoly'\n",
       "106. 'lssvmRadial'\n",
       "107. 'lvq'\n",
       "108. 'M5'\n",
       "109. 'M5Rules'\n",
       "110. 'manb'\n",
       "111. 'mda'\n",
       "112. 'Mlda'\n",
       "113. 'mlp'\n",
       "114. 'mlpKerasDecay'\n",
       "115. 'mlpKerasDecayCost'\n",
       "116. 'mlpKerasDropout'\n",
       "117. 'mlpKerasDropoutCost'\n",
       "118. 'mlpML'\n",
       "119. 'mlpSGD'\n",
       "120. 'mlpWeightDecay'\n",
       "121. 'mlpWeightDecayML'\n",
       "122. 'monmlp'\n",
       "123. 'msaenet'\n",
       "124. 'multinom'\n",
       "125. 'mxnet'\n",
       "126. 'mxnetAdam'\n",
       "127. 'naive_bayes'\n",
       "128. 'nb'\n",
       "129. 'nbDiscrete'\n",
       "130. 'nbSearch'\n",
       "131. 'neuralnet'\n",
       "132. 'nnet'\n",
       "133. 'nnls'\n",
       "134. 'nodeHarvest'\n",
       "135. 'null'\n",
       "136. 'OneR'\n",
       "137. 'ordinalNet'\n",
       "138. 'ordinalRF'\n",
       "139. 'ORFlog'\n",
       "140. 'ORFpls'\n",
       "141. 'ORFridge'\n",
       "142. 'ORFsvm'\n",
       "143. 'ownn'\n",
       "144. 'pam'\n",
       "145. 'parRF'\n",
       "146. 'PART'\n",
       "147. 'partDSA'\n",
       "148. 'pcaNNet'\n",
       "149. 'pcr'\n",
       "150. 'pda'\n",
       "151. 'pda2'\n",
       "152. 'penalized'\n",
       "153. 'PenalizedLDA'\n",
       "154. 'plr'\n",
       "155. 'pls'\n",
       "156. 'plsRglm'\n",
       "157. 'polr'\n",
       "158. 'ppr'\n",
       "159. 'PRIM'\n",
       "160. 'protoclass'\n",
       "161. 'qda'\n",
       "162. 'QdaCov'\n",
       "163. 'qrf'\n",
       "164. 'qrnn'\n",
       "165. 'randomGLM'\n",
       "166. 'ranger'\n",
       "167. 'rbf'\n",
       "168. 'rbfDDA'\n",
       "169. 'Rborist'\n",
       "170. 'rda'\n",
       "171. 'regLogistic'\n",
       "172. 'relaxo'\n",
       "173. 'rf'\n",
       "174. 'rFerns'\n",
       "175. 'RFlda'\n",
       "176. 'rfRules'\n",
       "177. 'ridge'\n",
       "178. 'rlda'\n",
       "179. 'rlm'\n",
       "180. 'rmda'\n",
       "181. 'rocc'\n",
       "182. 'rotationForest'\n",
       "183. 'rotationForestCp'\n",
       "184. 'rpart'\n",
       "185. 'rpart1SE'\n",
       "186. 'rpart2'\n",
       "187. 'rpartCost'\n",
       "188. 'rpartScore'\n",
       "189. 'rqlasso'\n",
       "190. 'rqnc'\n",
       "191. 'RRF'\n",
       "192. 'RRFglobal'\n",
       "193. 'rrlda'\n",
       "194. 'RSimca'\n",
       "195. 'rvmLinear'\n",
       "196. 'rvmPoly'\n",
       "197. 'rvmRadial'\n",
       "198. 'SBC'\n",
       "199. 'sda'\n",
       "200. 'sdwd'\n",
       "201. 'simpls'\n",
       "202. 'SLAVE'\n",
       "203. 'slda'\n",
       "204. 'smda'\n",
       "205. 'snn'\n",
       "206. 'sparseLDA'\n",
       "207. 'spikeslab'\n",
       "208. 'spls'\n",
       "209. 'stepLDA'\n",
       "210. 'stepQDA'\n",
       "211. 'superpc'\n",
       "212. 'svmBoundrangeString'\n",
       "213. 'svmExpoString'\n",
       "214. 'svmLinear'\n",
       "215. 'svmLinear2'\n",
       "216. 'svmLinear3'\n",
       "217. 'svmLinearWeights'\n",
       "218. 'svmLinearWeights2'\n",
       "219. 'svmPoly'\n",
       "220. 'svmRadial'\n",
       "221. 'svmRadialCost'\n",
       "222. 'svmRadialSigma'\n",
       "223. 'svmRadialWeights'\n",
       "224. 'svmSpectrumString'\n",
       "225. 'tan'\n",
       "226. 'tanSearch'\n",
       "227. 'treebag'\n",
       "228. 'vbmpRadial'\n",
       "229. 'vglmAdjCat'\n",
       "230. 'vglmContRatio'\n",
       "231. 'vglmCumulative'\n",
       "232. 'widekernelpls'\n",
       "233. 'WM'\n",
       "234. 'wsrf'\n",
       "235. 'xgbDART'\n",
       "236. 'xgbLinear'\n",
       "237. 'xgbTree'\n",
       "238. 'xyf'\n",
       "\n",
       "\n"
      ],
      "text/plain": [
       "  [1] \"ada\"                 \"AdaBag\"              \"AdaBoost.M1\"        \n",
       "  [4] \"adaboost\"            \"amdai\"               \"ANFIS\"              \n",
       "  [7] \"avNNet\"              \"awnb\"                \"awtan\"              \n",
       " [10] \"bag\"                 \"bagEarth\"            \"bagEarthGCV\"        \n",
       " [13] \"bagFDA\"              \"bagFDAGCV\"           \"bam\"                \n",
       " [16] \"bartMachine\"         \"bayesglm\"            \"binda\"              \n",
       " [19] \"blackboost\"          \"blasso\"              \"blassoAveraged\"     \n",
       " [22] \"bridge\"              \"brnn\"                \"BstLm\"              \n",
       " [25] \"bstSm\"               \"bstTree\"             \"C5.0\"               \n",
       " [28] \"C5.0Cost\"            \"C5.0Rules\"           \"C5.0Tree\"           \n",
       " [31] \"cforest\"             \"chaid\"               \"CSimca\"             \n",
       " [34] \"ctree\"               \"ctree2\"              \"cubist\"             \n",
       " [37] \"dda\"                 \"deepboost\"           \"DENFIS\"             \n",
       " [40] \"dnn\"                 \"dwdLinear\"           \"dwdPoly\"            \n",
       " [43] \"dwdRadial\"           \"earth\"               \"elm\"                \n",
       " [46] \"enet\"                \"evtree\"              \"extraTrees\"         \n",
       " [49] \"fda\"                 \"FH.GBML\"             \"FIR.DM\"             \n",
       " [52] \"foba\"                \"FRBCS.CHI\"           \"FRBCS.W\"            \n",
       " [55] \"FS.HGD\"              \"gam\"                 \"gamboost\"           \n",
       " [58] \"gamLoess\"            \"gamSpline\"           \"gaussprLinear\"      \n",
       " [61] \"gaussprPoly\"         \"gaussprRadial\"       \"gbm_h2o\"            \n",
       " [64] \"gbm\"                 \"gcvEarth\"            \"GFS.FR.MOGUL\"       \n",
       " [67] \"GFS.LT.RS\"           \"GFS.THRIFT\"          \"glm.nb\"             \n",
       " [70] \"glm\"                 \"glmboost\"            \"glmnet_h2o\"         \n",
       " [73] \"glmnet\"              \"glmStepAIC\"          \"gpls\"               \n",
       " [76] \"hda\"                 \"hdda\"                \"hdrda\"              \n",
       " [79] \"HYFIS\"               \"icr\"                 \"J48\"                \n",
       " [82] \"JRip\"                \"kernelpls\"           \"kknn\"               \n",
       " [85] \"knn\"                 \"krlsPoly\"            \"krlsRadial\"         \n",
       " [88] \"lars\"                \"lars2\"               \"lasso\"              \n",
       " [91] \"lda\"                 \"lda2\"                \"leapBackward\"       \n",
       " [94] \"leapForward\"         \"leapSeq\"             \"Linda\"              \n",
       " [97] \"lm\"                  \"lmStepAIC\"           \"LMT\"                \n",
       "[100] \"loclda\"              \"logicBag\"            \"LogitBoost\"         \n",
       "[103] \"logreg\"              \"lssvmLinear\"         \"lssvmPoly\"          \n",
       "[106] \"lssvmRadial\"         \"lvq\"                 \"M5\"                 \n",
       "[109] \"M5Rules\"             \"manb\"                \"mda\"                \n",
       "[112] \"Mlda\"                \"mlp\"                 \"mlpKerasDecay\"      \n",
       "[115] \"mlpKerasDecayCost\"   \"mlpKerasDropout\"     \"mlpKerasDropoutCost\"\n",
       "[118] \"mlpML\"               \"mlpSGD\"              \"mlpWeightDecay\"     \n",
       "[121] \"mlpWeightDecayML\"    \"monmlp\"              \"msaenet\"            \n",
       "[124] \"multinom\"            \"mxnet\"               \"mxnetAdam\"          \n",
       "[127] \"naive_bayes\"         \"nb\"                  \"nbDiscrete\"         \n",
       "[130] \"nbSearch\"            \"neuralnet\"           \"nnet\"               \n",
       "[133] \"nnls\"                \"nodeHarvest\"         \"null\"               \n",
       "[136] \"OneR\"                \"ordinalNet\"          \"ordinalRF\"          \n",
       "[139] \"ORFlog\"              \"ORFpls\"              \"ORFridge\"           \n",
       "[142] \"ORFsvm\"              \"ownn\"                \"pam\"                \n",
       "[145] \"parRF\"               \"PART\"                \"partDSA\"            \n",
       "[148] \"pcaNNet\"             \"pcr\"                 \"pda\"                \n",
       "[151] \"pda2\"                \"penalized\"           \"PenalizedLDA\"       \n",
       "[154] \"plr\"                 \"pls\"                 \"plsRglm\"            \n",
       "[157] \"polr\"                \"ppr\"                 \"PRIM\"               \n",
       "[160] \"protoclass\"          \"qda\"                 \"QdaCov\"             \n",
       "[163] \"qrf\"                 \"qrnn\"                \"randomGLM\"          \n",
       "[166] \"ranger\"              \"rbf\"                 \"rbfDDA\"             \n",
       "[169] \"Rborist\"             \"rda\"                 \"regLogistic\"        \n",
       "[172] \"relaxo\"              \"rf\"                  \"rFerns\"             \n",
       "[175] \"RFlda\"               \"rfRules\"             \"ridge\"              \n",
       "[178] \"rlda\"                \"rlm\"                 \"rmda\"               \n",
       "[181] \"rocc\"                \"rotationForest\"      \"rotationForestCp\"   \n",
       "[184] \"rpart\"               \"rpart1SE\"            \"rpart2\"             \n",
       "[187] \"rpartCost\"           \"rpartScore\"          \"rqlasso\"            \n",
       "[190] \"rqnc\"                \"RRF\"                 \"RRFglobal\"          \n",
       "[193] \"rrlda\"               \"RSimca\"              \"rvmLinear\"          \n",
       "[196] \"rvmPoly\"             \"rvmRadial\"           \"SBC\"                \n",
       "[199] \"sda\"                 \"sdwd\"                \"simpls\"             \n",
       "[202] \"SLAVE\"               \"slda\"                \"smda\"               \n",
       "[205] \"snn\"                 \"sparseLDA\"           \"spikeslab\"          \n",
       "[208] \"spls\"                \"stepLDA\"             \"stepQDA\"            \n",
       "[211] \"superpc\"             \"svmBoundrangeString\" \"svmExpoString\"      \n",
       "[214] \"svmLinear\"           \"svmLinear2\"          \"svmLinear3\"         \n",
       "[217] \"svmLinearWeights\"    \"svmLinearWeights2\"   \"svmPoly\"            \n",
       "[220] \"svmRadial\"           \"svmRadialCost\"       \"svmRadialSigma\"     \n",
       "[223] \"svmRadialWeights\"    \"svmSpectrumString\"   \"tan\"                \n",
       "[226] \"tanSearch\"           \"treebag\"             \"vbmpRadial\"         \n",
       "[229] \"vglmAdjCat\"          \"vglmContRatio\"       \"vglmCumulative\"     \n",
       "[232] \"widekernelpls\"       \"WM\"                  \"wsrf\"               \n",
       "[235] \"xgbDART\"             \"xgbLinear\"           \"xgbTree\"            \n",
       "[238] \"xyf\"                "
      ]
     },
     "metadata": {},
     "output_type": "display_data"
    }
   ],
   "source": [
    "# available models in caret\n",
    "names(getModelInfo())"
   ]
  },
  {
   "cell_type": "code",
   "execution_count": null,
   "metadata": {},
   "outputs": [],
   "source": []
  }
 ],
 "metadata": {
  "kernelspec": {
   "display_name": "R",
   "language": "R",
   "name": "ir"
  },
  "language_info": {
   "codemirror_mode": "r",
   "file_extension": ".r",
   "mimetype": "text/x-r-source",
   "name": "R",
   "pygments_lexer": "r",
   "version": "3.6.2"
  }
 },
 "nbformat": 4,
 "nbformat_minor": 4
}
