{
 "cells": [
  {
   "cell_type": "code",
   "execution_count": 74,
   "metadata": {},
   "outputs": [],
   "source": [
    "library(readxl)\n",
    "library(ggplot2)\n",
    "library(caret)\n",
    "library(reshape2)\n",
    "\n",
    "options(repr.plot.width=12, repr.plot.height=6) # plots size"
   ]
  },
  {
   "cell_type": "code",
   "execution_count": 75,
   "metadata": {},
   "outputs": [
    {
     "data": {
      "text/html": [
       "<table>\n",
       "<caption>A tibble: 6 × 21</caption>\n",
       "<thead>\n",
       "\t<tr><th scope=col>Account Length</th><th scope=col>VMail Message</th><th scope=col>Day Mins</th><th scope=col>Eve Mins</th><th scope=col>Night Mins</th><th scope=col>Intl Mins</th><th scope=col>CustServ Calls</th><th scope=col>Churn</th><th scope=col>Int'l Plan</th><th scope=col>VMail Plan</th><th scope=col>...</th><th scope=col>Day Charge</th><th scope=col>Eve Calls</th><th scope=col>Eve Charge</th><th scope=col>Night Calls</th><th scope=col>Night Charge</th><th scope=col>Intl Calls</th><th scope=col>Intl Charge</th><th scope=col>State</th><th scope=col>Area Code</th><th scope=col>Phone</th></tr>\n",
       "\t<tr><th scope=col>&lt;dbl&gt;</th><th scope=col>&lt;dbl&gt;</th><th scope=col>&lt;dbl&gt;</th><th scope=col>&lt;dbl&gt;</th><th scope=col>&lt;dbl&gt;</th><th scope=col>&lt;dbl&gt;</th><th scope=col>&lt;dbl&gt;</th><th scope=col>&lt;dbl&gt;</th><th scope=col>&lt;dbl&gt;</th><th scope=col>&lt;dbl&gt;</th><th scope=col>...</th><th scope=col>&lt;dbl&gt;</th><th scope=col>&lt;dbl&gt;</th><th scope=col>&lt;dbl&gt;</th><th scope=col>&lt;dbl&gt;</th><th scope=col>&lt;dbl&gt;</th><th scope=col>&lt;dbl&gt;</th><th scope=col>&lt;dbl&gt;</th><th scope=col>&lt;chr&gt;</th><th scope=col>&lt;dbl&gt;</th><th scope=col>&lt;chr&gt;</th></tr>\n",
       "</thead>\n",
       "<tbody>\n",
       "\t<tr><td>128</td><td>25</td><td>265.1</td><td>197.4</td><td>244.7</td><td>10.0</td><td>1</td><td>0</td><td>0</td><td>1</td><td>...</td><td>45.07</td><td> 99</td><td>16.78</td><td> 91</td><td>11.01</td><td>3</td><td>2.70</td><td>KS</td><td>415</td><td>382-4657</td></tr>\n",
       "\t<tr><td>107</td><td>26</td><td>161.6</td><td>195.5</td><td>254.4</td><td>13.7</td><td>1</td><td>0</td><td>0</td><td>1</td><td>...</td><td>27.47</td><td>103</td><td>16.62</td><td>103</td><td>11.45</td><td>3</td><td>3.70</td><td>OH</td><td>415</td><td>371-7191</td></tr>\n",
       "\t<tr><td>137</td><td> 0</td><td>243.4</td><td>121.2</td><td>162.6</td><td>12.2</td><td>0</td><td>0</td><td>0</td><td>0</td><td>...</td><td>41.38</td><td>110</td><td>10.30</td><td>104</td><td> 7.32</td><td>5</td><td>3.29</td><td>NJ</td><td>415</td><td>358-1921</td></tr>\n",
       "\t<tr><td> 84</td><td> 0</td><td>299.4</td><td> 61.9</td><td>196.9</td><td> 6.6</td><td>2</td><td>0</td><td>1</td><td>0</td><td>...</td><td>50.90</td><td> 88</td><td> 5.26</td><td> 89</td><td> 8.86</td><td>7</td><td>1.78</td><td>OH</td><td>408</td><td>375-9999</td></tr>\n",
       "\t<tr><td> 75</td><td> 0</td><td>166.7</td><td>148.3</td><td>186.9</td><td>10.1</td><td>3</td><td>0</td><td>1</td><td>0</td><td>...</td><td>28.34</td><td>122</td><td>12.61</td><td>121</td><td> 8.41</td><td>3</td><td>2.73</td><td>OK</td><td>415</td><td>330-6626</td></tr>\n",
       "\t<tr><td>118</td><td> 0</td><td>223.4</td><td>220.6</td><td>203.9</td><td> 6.3</td><td>0</td><td>0</td><td>1</td><td>0</td><td>...</td><td>37.98</td><td>101</td><td>18.75</td><td>118</td><td> 9.18</td><td>6</td><td>1.70</td><td>AL</td><td>510</td><td>391-8027</td></tr>\n",
       "</tbody>\n",
       "</table>\n"
      ],
      "text/latex": [
       "A tibble: 6 × 21\n",
       "\\begin{tabular}{lllllllllllllllllllll}\n",
       " Account Length & VMail Message & Day Mins & Eve Mins & Night Mins & Intl Mins & CustServ Calls & Churn & Int'l Plan & VMail Plan & ... & Day Charge & Eve Calls & Eve Charge & Night Calls & Night Charge & Intl Calls & Intl Charge & State & Area Code & Phone\\\\\n",
       " <dbl> & <dbl> & <dbl> & <dbl> & <dbl> & <dbl> & <dbl> & <dbl> & <dbl> & <dbl> & ... & <dbl> & <dbl> & <dbl> & <dbl> & <dbl> & <dbl> & <dbl> & <chr> & <dbl> & <chr>\\\\\n",
       "\\hline\n",
       "\t 128 & 25 & 265.1 & 197.4 & 244.7 & 10.0 & 1 & 0 & 0 & 1 & ... & 45.07 &  99 & 16.78 &  91 & 11.01 & 3 & 2.70 & KS & 415 & 382-4657\\\\\n",
       "\t 107 & 26 & 161.6 & 195.5 & 254.4 & 13.7 & 1 & 0 & 0 & 1 & ... & 27.47 & 103 & 16.62 & 103 & 11.45 & 3 & 3.70 & OH & 415 & 371-7191\\\\\n",
       "\t 137 &  0 & 243.4 & 121.2 & 162.6 & 12.2 & 0 & 0 & 0 & 0 & ... & 41.38 & 110 & 10.30 & 104 &  7.32 & 5 & 3.29 & NJ & 415 & 358-1921\\\\\n",
       "\t  84 &  0 & 299.4 &  61.9 & 196.9 &  6.6 & 2 & 0 & 1 & 0 & ... & 50.90 &  88 &  5.26 &  89 &  8.86 & 7 & 1.78 & OH & 408 & 375-9999\\\\\n",
       "\t  75 &  0 & 166.7 & 148.3 & 186.9 & 10.1 & 3 & 0 & 1 & 0 & ... & 28.34 & 122 & 12.61 & 121 &  8.41 & 3 & 2.73 & OK & 415 & 330-6626\\\\\n",
       "\t 118 &  0 & 223.4 & 220.6 & 203.9 &  6.3 & 0 & 0 & 1 & 0 & ... & 37.98 & 101 & 18.75 & 118 &  9.18 & 6 & 1.70 & AL & 510 & 391-8027\\\\\n",
       "\\end{tabular}\n"
      ],
      "text/markdown": [
       "\n",
       "A tibble: 6 × 21\n",
       "\n",
       "| Account Length &lt;dbl&gt; | VMail Message &lt;dbl&gt; | Day Mins &lt;dbl&gt; | Eve Mins &lt;dbl&gt; | Night Mins &lt;dbl&gt; | Intl Mins &lt;dbl&gt; | CustServ Calls &lt;dbl&gt; | Churn &lt;dbl&gt; | Int'l Plan &lt;dbl&gt; | VMail Plan &lt;dbl&gt; | ... ... | Day Charge &lt;dbl&gt; | Eve Calls &lt;dbl&gt; | Eve Charge &lt;dbl&gt; | Night Calls &lt;dbl&gt; | Night Charge &lt;dbl&gt; | Intl Calls &lt;dbl&gt; | Intl Charge &lt;dbl&gt; | State &lt;chr&gt; | Area Code &lt;dbl&gt; | Phone &lt;chr&gt; |\n",
       "|---|---|---|---|---|---|---|---|---|---|---|---|---|---|---|---|---|---|---|---|---|\n",
       "| 128 | 25 | 265.1 | 197.4 | 244.7 | 10.0 | 1 | 0 | 0 | 1 | ... | 45.07 |  99 | 16.78 |  91 | 11.01 | 3 | 2.70 | KS | 415 | 382-4657 |\n",
       "| 107 | 26 | 161.6 | 195.5 | 254.4 | 13.7 | 1 | 0 | 0 | 1 | ... | 27.47 | 103 | 16.62 | 103 | 11.45 | 3 | 3.70 | OH | 415 | 371-7191 |\n",
       "| 137 |  0 | 243.4 | 121.2 | 162.6 | 12.2 | 0 | 0 | 0 | 0 | ... | 41.38 | 110 | 10.30 | 104 |  7.32 | 5 | 3.29 | NJ | 415 | 358-1921 |\n",
       "|  84 |  0 | 299.4 |  61.9 | 196.9 |  6.6 | 2 | 0 | 1 | 0 | ... | 50.90 |  88 |  5.26 |  89 |  8.86 | 7 | 1.78 | OH | 408 | 375-9999 |\n",
       "|  75 |  0 | 166.7 | 148.3 | 186.9 | 10.1 | 3 | 0 | 1 | 0 | ... | 28.34 | 122 | 12.61 | 121 |  8.41 | 3 | 2.73 | OK | 415 | 330-6626 |\n",
       "| 118 |  0 | 223.4 | 220.6 | 203.9 |  6.3 | 0 | 0 | 1 | 0 | ... | 37.98 | 101 | 18.75 | 118 |  9.18 | 6 | 1.70 | AL | 510 | 391-8027 |\n",
       "\n"
      ],
      "text/plain": [
       "  Account Length VMail Message Day Mins Eve Mins Night Mins Intl Mins\n",
       "1 128            25            265.1    197.4    244.7      10.0     \n",
       "2 107            26            161.6    195.5    254.4      13.7     \n",
       "3 137             0            243.4    121.2    162.6      12.2     \n",
       "4  84             0            299.4     61.9    196.9       6.6     \n",
       "5  75             0            166.7    148.3    186.9      10.1     \n",
       "6 118             0            223.4    220.6    203.9       6.3     \n",
       "  CustServ Calls Churn Int'l Plan VMail Plan ... Day Charge Eve Calls\n",
       "1 1              0     0          1          ... 45.07       99      \n",
       "2 1              0     0          1          ... 27.47      103      \n",
       "3 0              0     0          0          ... 41.38      110      \n",
       "4 2              0     1          0          ... 50.90       88      \n",
       "5 3              0     1          0          ... 28.34      122      \n",
       "6 0              0     1          0          ... 37.98      101      \n",
       "  Eve Charge Night Calls Night Charge Intl Calls Intl Charge State Area Code\n",
       "1 16.78       91         11.01        3          2.70        KS    415      \n",
       "2 16.62      103         11.45        3          3.70        OH    415      \n",
       "3 10.30      104          7.32        5          3.29        NJ    415      \n",
       "4  5.26       89          8.86        7          1.78        OH    408      \n",
       "5 12.61      121          8.41        3          2.73        OK    415      \n",
       "6 18.75      118          9.18        6          1.70        AL    510      \n",
       "  Phone   \n",
       "1 382-4657\n",
       "2 371-7191\n",
       "3 358-1921\n",
       "4 375-9999\n",
       "5 330-6626\n",
       "6 391-8027"
      ]
     },
     "metadata": {},
     "output_type": "display_data"
    }
   ],
   "source": [
    "churn <- read_excel(\"data/Churn.xls\")\n",
    "head(churn)"
   ]
  },
  {
   "cell_type": "code",
   "execution_count": 76,
   "metadata": {},
   "outputs": [
    {
     "data": {
      "text/html": [
       "<style>\n",
       ".list-inline {list-style: none; margin:0; padding: 0}\n",
       ".list-inline>li {display: inline-block}\n",
       ".list-inline>li:not(:last-child)::after {content: \"\\00b7\"; padding: 0 .5ex}\n",
       "</style>\n",
       "<ol class=list-inline><li>'Account Length'</li><li>'VMail Message'</li><li>'Day Mins'</li><li>'Eve Mins'</li><li>'Night Mins'</li><li>'Intl Mins'</li><li>'CustServ Calls'</li><li>'Churn'</li><li>'Int\\'l Plan'</li><li>'VMail Plan'</li><li>'Day Calls'</li><li>'Day Charge'</li><li>'Eve Calls'</li><li>'Eve Charge'</li><li>'Night Calls'</li><li>'Night Charge'</li><li>'Intl Calls'</li><li>'Intl Charge'</li><li>'State'</li><li>'Area Code'</li><li>'Phone'</li></ol>\n"
      ],
      "text/latex": [
       "\\begin{enumerate*}\n",
       "\\item 'Account Length'\n",
       "\\item 'VMail Message'\n",
       "\\item 'Day Mins'\n",
       "\\item 'Eve Mins'\n",
       "\\item 'Night Mins'\n",
       "\\item 'Intl Mins'\n",
       "\\item 'CustServ Calls'\n",
       "\\item 'Churn'\n",
       "\\item 'Int\\textbackslash{}'l Plan'\n",
       "\\item 'VMail Plan'\n",
       "\\item 'Day Calls'\n",
       "\\item 'Day Charge'\n",
       "\\item 'Eve Calls'\n",
       "\\item 'Eve Charge'\n",
       "\\item 'Night Calls'\n",
       "\\item 'Night Charge'\n",
       "\\item 'Intl Calls'\n",
       "\\item 'Intl Charge'\n",
       "\\item 'State'\n",
       "\\item 'Area Code'\n",
       "\\item 'Phone'\n",
       "\\end{enumerate*}\n"
      ],
      "text/markdown": [
       "1. 'Account Length'\n",
       "2. 'VMail Message'\n",
       "3. 'Day Mins'\n",
       "4. 'Eve Mins'\n",
       "5. 'Night Mins'\n",
       "6. 'Intl Mins'\n",
       "7. 'CustServ Calls'\n",
       "8. 'Churn'\n",
       "9. 'Int\\'l Plan'\n",
       "10. 'VMail Plan'\n",
       "11. 'Day Calls'\n",
       "12. 'Day Charge'\n",
       "13. 'Eve Calls'\n",
       "14. 'Eve Charge'\n",
       "15. 'Night Calls'\n",
       "16. 'Night Charge'\n",
       "17. 'Intl Calls'\n",
       "18. 'Intl Charge'\n",
       "19. 'State'\n",
       "20. 'Area Code'\n",
       "21. 'Phone'\n",
       "\n",
       "\n"
      ],
      "text/plain": [
       " [1] \"Account Length\" \"VMail Message\"  \"Day Mins\"       \"Eve Mins\"      \n",
       " [5] \"Night Mins\"     \"Intl Mins\"      \"CustServ Calls\" \"Churn\"         \n",
       " [9] \"Int'l Plan\"     \"VMail Plan\"     \"Day Calls\"      \"Day Charge\"    \n",
       "[13] \"Eve Calls\"      \"Eve Charge\"     \"Night Calls\"    \"Night Charge\"  \n",
       "[17] \"Intl Calls\"     \"Intl Charge\"    \"State\"          \"Area Code\"     \n",
       "[21] \"Phone\"         "
      ]
     },
     "metadata": {},
     "output_type": "display_data"
    }
   ],
   "source": [
    "# check column names\n",
    "names(churn)"
   ]
  },
  {
   "cell_type": "code",
   "execution_count": 77,
   "metadata": {},
   "outputs": [],
   "source": [
    "# transform column names\n",
    "names(churn) <- make.names(names(churn))"
   ]
  },
  {
   "cell_type": "code",
   "execution_count": 78,
   "metadata": {},
   "outputs": [
    {
     "data": {
      "text/html": [
       "<style>\n",
       ".list-inline {list-style: none; margin:0; padding: 0}\n",
       ".list-inline>li {display: inline-block}\n",
       ".list-inline>li:not(:last-child)::after {content: \"\\00b7\"; padding: 0 .5ex}\n",
       "</style>\n",
       "<ol class=list-inline><li>'Account.Length'</li><li>'VMail.Message'</li><li>'Day.Mins'</li><li>'Eve.Mins'</li><li>'Night.Mins'</li><li>'Intl.Mins'</li><li>'CustServ.Calls'</li><li>'Churn'</li><li>'Int.l.Plan'</li><li>'VMail.Plan'</li><li>'Day.Calls'</li><li>'Day.Charge'</li><li>'Eve.Calls'</li><li>'Eve.Charge'</li><li>'Night.Calls'</li><li>'Night.Charge'</li><li>'Intl.Calls'</li><li>'Intl.Charge'</li><li>'State'</li><li>'Area.Code'</li><li>'Phone'</li></ol>\n"
      ],
      "text/latex": [
       "\\begin{enumerate*}\n",
       "\\item 'Account.Length'\n",
       "\\item 'VMail.Message'\n",
       "\\item 'Day.Mins'\n",
       "\\item 'Eve.Mins'\n",
       "\\item 'Night.Mins'\n",
       "\\item 'Intl.Mins'\n",
       "\\item 'CustServ.Calls'\n",
       "\\item 'Churn'\n",
       "\\item 'Int.l.Plan'\n",
       "\\item 'VMail.Plan'\n",
       "\\item 'Day.Calls'\n",
       "\\item 'Day.Charge'\n",
       "\\item 'Eve.Calls'\n",
       "\\item 'Eve.Charge'\n",
       "\\item 'Night.Calls'\n",
       "\\item 'Night.Charge'\n",
       "\\item 'Intl.Calls'\n",
       "\\item 'Intl.Charge'\n",
       "\\item 'State'\n",
       "\\item 'Area.Code'\n",
       "\\item 'Phone'\n",
       "\\end{enumerate*}\n"
      ],
      "text/markdown": [
       "1. 'Account.Length'\n",
       "2. 'VMail.Message'\n",
       "3. 'Day.Mins'\n",
       "4. 'Eve.Mins'\n",
       "5. 'Night.Mins'\n",
       "6. 'Intl.Mins'\n",
       "7. 'CustServ.Calls'\n",
       "8. 'Churn'\n",
       "9. 'Int.l.Plan'\n",
       "10. 'VMail.Plan'\n",
       "11. 'Day.Calls'\n",
       "12. 'Day.Charge'\n",
       "13. 'Eve.Calls'\n",
       "14. 'Eve.Charge'\n",
       "15. 'Night.Calls'\n",
       "16. 'Night.Charge'\n",
       "17. 'Intl.Calls'\n",
       "18. 'Intl.Charge'\n",
       "19. 'State'\n",
       "20. 'Area.Code'\n",
       "21. 'Phone'\n",
       "\n",
       "\n"
      ],
      "text/plain": [
       " [1] \"Account.Length\" \"VMail.Message\"  \"Day.Mins\"       \"Eve.Mins\"      \n",
       " [5] \"Night.Mins\"     \"Intl.Mins\"      \"CustServ.Calls\" \"Churn\"         \n",
       " [9] \"Int.l.Plan\"     \"VMail.Plan\"     \"Day.Calls\"      \"Day.Charge\"    \n",
       "[13] \"Eve.Calls\"      \"Eve.Charge\"     \"Night.Calls\"    \"Night.Charge\"  \n",
       "[17] \"Intl.Calls\"     \"Intl.Charge\"    \"State\"          \"Area.Code\"     \n",
       "[21] \"Phone\"         "
      ]
     },
     "metadata": {},
     "output_type": "display_data"
    }
   ],
   "source": [
    "names(churn)"
   ]
  },
  {
   "cell_type": "code",
   "execution_count": 79,
   "metadata": {},
   "outputs": [
    {
     "name": "stdout",
     "output_type": "stream",
     "text": [
      "Classes 'tbl_df', 'tbl' and 'data.frame':\t3333 obs. of  21 variables:\n",
      " $ Account.Length: num  128 107 137 84 75 118 121 147 117 141 ...\n",
      " $ VMail.Message : num  25 26 0 0 0 0 24 0 0 37 ...\n",
      " $ Day.Mins      : num  265 162 243 299 167 ...\n",
      " $ Eve.Mins      : num  197.4 195.5 121.2 61.9 148.3 ...\n",
      " $ Night.Mins    : num  245 254 163 197 187 ...\n",
      " $ Intl.Mins     : num  10 13.7 12.2 6.6 10.1 6.3 7.5 7.1 8.7 11.2 ...\n",
      " $ CustServ.Calls: num  1 1 0 2 3 0 3 0 1 0 ...\n",
      " $ Churn         : num  0 0 0 0 0 0 0 0 0 0 ...\n",
      " $ Int.l.Plan    : num  0 0 0 1 1 1 0 1 0 1 ...\n",
      " $ VMail.Plan    : num  1 1 0 0 0 0 1 0 0 1 ...\n",
      " $ Day.Calls     : num  110 123 114 71 113 98 88 79 97 84 ...\n",
      " $ Day.Charge    : num  45.1 27.5 41.4 50.9 28.3 ...\n",
      " $ Eve.Calls     : num  99 103 110 88 122 101 108 94 80 111 ...\n",
      " $ Eve.Charge    : num  16.78 16.62 10.3 5.26 12.61 ...\n",
      " $ Night.Calls   : num  91 103 104 89 121 118 118 96 90 97 ...\n",
      " $ Night.Charge  : num  11.01 11.45 7.32 8.86 8.41 ...\n",
      " $ Intl.Calls    : num  3 3 5 7 3 6 7 6 4 5 ...\n",
      " $ Intl.Charge   : num  2.7 3.7 3.29 1.78 2.73 1.7 2.03 1.92 2.35 3.02 ...\n",
      " $ State         : chr  \"KS\" \"OH\" \"NJ\" \"OH\" ...\n",
      " $ Area.Code     : num  415 415 415 408 415 510 510 415 408 415 ...\n",
      " $ Phone         : chr  \"382-4657\" \"371-7191\" \"358-1921\" \"375-9999\" ...\n"
     ]
    }
   ],
   "source": [
    "str(churn)"
   ]
  },
  {
   "cell_type": "code",
   "execution_count": 80,
   "metadata": {},
   "outputs": [],
   "source": [
    "churn$State <- as.factor(churn$State)\n",
    "churn$Churn <- as.factor(churn$Churn)"
   ]
  },
  {
   "cell_type": "code",
   "execution_count": 81,
   "metadata": {},
   "outputs": [
    {
     "name": "stdout",
     "output_type": "stream",
     "text": [
      "Classes 'tbl_df', 'tbl' and 'data.frame':\t3333 obs. of  21 variables:\n",
      " $ Account.Length: num  128 107 137 84 75 118 121 147 117 141 ...\n",
      " $ VMail.Message : num  25 26 0 0 0 0 24 0 0 37 ...\n",
      " $ Day.Mins      : num  265 162 243 299 167 ...\n",
      " $ Eve.Mins      : num  197.4 195.5 121.2 61.9 148.3 ...\n",
      " $ Night.Mins    : num  245 254 163 197 187 ...\n",
      " $ Intl.Mins     : num  10 13.7 12.2 6.6 10.1 6.3 7.5 7.1 8.7 11.2 ...\n",
      " $ CustServ.Calls: num  1 1 0 2 3 0 3 0 1 0 ...\n",
      " $ Churn         : Factor w/ 2 levels \"0\",\"1\": 1 1 1 1 1 1 1 1 1 1 ...\n",
      " $ Int.l.Plan    : num  0 0 0 1 1 1 0 1 0 1 ...\n",
      " $ VMail.Plan    : num  1 1 0 0 0 0 1 0 0 1 ...\n",
      " $ Day.Calls     : num  110 123 114 71 113 98 88 79 97 84 ...\n",
      " $ Day.Charge    : num  45.1 27.5 41.4 50.9 28.3 ...\n",
      " $ Eve.Calls     : num  99 103 110 88 122 101 108 94 80 111 ...\n",
      " $ Eve.Charge    : num  16.78 16.62 10.3 5.26 12.61 ...\n",
      " $ Night.Calls   : num  91 103 104 89 121 118 118 96 90 97 ...\n",
      " $ Night.Charge  : num  11.01 11.45 7.32 8.86 8.41 ...\n",
      " $ Intl.Calls    : num  3 3 5 7 3 6 7 6 4 5 ...\n",
      " $ Intl.Charge   : num  2.7 3.7 3.29 1.78 2.73 1.7 2.03 1.92 2.35 3.02 ...\n",
      " $ State         : Factor w/ 51 levels \"AK\",\"AL\",\"AR\",..: 17 36 32 36 37 2 20 25 19 50 ...\n",
      " $ Area.Code     : num  415 415 415 408 415 510 510 415 408 415 ...\n",
      " $ Phone         : chr  \"382-4657\" \"371-7191\" \"358-1921\" \"375-9999\" ...\n"
     ]
    }
   ],
   "source": [
    "str(churn)"
   ]
  },
  {
   "cell_type": "code",
   "execution_count": 173,
   "metadata": {},
   "outputs": [
    {
     "data": {
      "image/png": "[encoded data removed]",
      "text/plain": [
       "plot without title"
      ]
     },
     "metadata": {
      "image/png": {
       "height": 360,
       "width": 720
      },
      "text/plain": {
       "height": 360,
       "width": 720
      }
     },
     "output_type": "display_data"
    }
   ],
   "source": [
    "ggplot(churn) + \n",
    "geom_bar(aes(x = State, fill = Churn), position = 'fill') +\n",
    "theme_minimal() +\n",
    "labs(y = 'proportion')"
   ]
  },
  {
   "cell_type": "code",
   "execution_count": 172,
   "metadata": {},
   "outputs": [
    {
     "data": {
      "image/png": "[encoded data removed]",
      "text/plain": [
       "plot without title"
      ]
     },
     "metadata": {
      "image/png": {
       "height": 360,
       "width": 720
      },
      "text/plain": {
       "height": 360,
       "width": 720
      }
     },
     "output_type": "display_data"
    }
   ],
   "source": [
    "ggplot(churn) + \n",
    "geom_boxplot(aes(x = Churn, y = Account.Length)) +\n",
    "theme_minimal() +\n",
    "labs(y = 'Account Length')"
   ]
  },
  {
   "cell_type": "code",
   "execution_count": 171,
   "metadata": {},
   "outputs": [
    {
     "data": {
      "image/png": "[encoded data removed]",
      "text/plain": [
       "plot without title"
      ]
     },
     "metadata": {
      "image/png": {
       "height": 360,
       "width": 720
      },
      "text/plain": {
       "height": 360,
       "width": 720
      }
     },
     "output_type": "display_data"
    }
   ],
   "source": [
    "ggplot(churn) + \n",
    "geom_boxplot(aes(x = Churn, y = CustServ.Calls)) +\n",
    "theme_minimal() +\n",
    "labs(y = 'Customer Service Calls')"
   ]
  },
  {
   "cell_type": "code",
   "execution_count": 140,
   "metadata": {},
   "outputs": [
    {
     "data": {
      "text/plain": [
       "   \n",
       "       0    1\n",
       "  0  605   92\n",
       "  1 1059  122\n",
       "  2  672   87\n",
       "  3  385   44\n",
       "  4   90   76\n",
       "  5   26   40\n",
       "  6    8   14\n",
       "  7    4    5\n",
       "  8    1    1\n",
       "  9    0    2"
      ]
     },
     "metadata": {},
     "output_type": "display_data"
    }
   ],
   "source": [
    "table(churn$CustServ.Calls, churn$Churn)"
   ]
  },
  {
   "cell_type": "code",
   "execution_count": 158,
   "metadata": {},
   "outputs": [
    {
     "name": "stdout",
     "output_type": "stream",
     "text": [
      "'data.frame':\t20 obs. of  3 variables:\n",
      " $ calls: Factor w/ 10 levels \"0\",\"1\",\"2\",\"3\",..: 1 2 3 4 5 6 7 8 9 10 ...\n",
      " $ churn: Factor w/ 2 levels \"0\",\"1\": 1 1 1 1 1 1 1 1 1 1 ...\n",
      " $ count: int  605 1059 672 385 90 26 8 4 1 0 ...\n"
     ]
    }
   ],
   "source": [
    "call_churn <- data.frame(table(churn$CustServ.Calls, churn$Churn))\n",
    "names(call_churn) <- c('calls', 'churn', 'count')\n",
    "str(call_churn)"
   ]
  },
  {
   "cell_type": "code",
   "execution_count": 159,
   "metadata": {},
   "outputs": [
    {
     "name": "stdout",
     "output_type": "stream",
     "text": [
      "'data.frame':\t20 obs. of  3 variables:\n",
      " $ calls: num  1 2 3 4 5 6 7 8 9 10 ...\n",
      " $ churn: Factor w/ 2 levels \"0\",\"1\": 1 1 1 1 1 1 1 1 1 1 ...\n",
      " $ count: int  605 1059 672 385 90 26 8 4 1 0 ...\n"
     ]
    }
   ],
   "source": [
    "call_churn$calls <- as.numeric(call_churn$calls)\n",
    "str(call_churn)"
   ]
  },
  {
   "cell_type": "code",
   "execution_count": 170,
   "metadata": {},
   "outputs": [
    {
     "data": {
      "image/png": "[encoded data removed]",
      "text/plain": [
       "plot without title"
      ]
     },
     "metadata": {
      "image/png": {
       "height": 360,
       "width": 720
      },
      "text/plain": {
       "height": 360,
       "width": 720
      }
     },
     "output_type": "display_data"
    }
   ],
   "source": [
    "ggplot(call_churn) + \n",
    "geom_line(aes(x = calls, y = count)) + \n",
    "facet_wrap(~churn) +\n",
    "theme_minimal()"
   ]
  },
  {
   "cell_type": "code",
   "execution_count": 198,
   "metadata": {},
   "outputs": [
    {
     "data": {
      "text/html": [
       "<table>\n",
       "<caption>A tibble: 6 × 20</caption>\n",
       "<thead>\n",
       "\t<tr><th scope=col>Account.Length</th><th scope=col>VMail.Message</th><th scope=col>Day.Mins</th><th scope=col>Eve.Mins</th><th scope=col>Night.Mins</th><th scope=col>Intl.Mins</th><th scope=col>CustServ.Calls</th><th scope=col>Churn</th><th scope=col>Int.l.Plan</th><th scope=col>VMail.Plan</th><th scope=col>Day.Calls</th><th scope=col>Day.Charge</th><th scope=col>Eve.Calls</th><th scope=col>Eve.Charge</th><th scope=col>Night.Calls</th><th scope=col>Night.Charge</th><th scope=col>Intl.Calls</th><th scope=col>Intl.Charge</th><th scope=col>State</th><th scope=col>Area.Code</th></tr>\n",
       "\t<tr><th scope=col>&lt;dbl&gt;</th><th scope=col>&lt;dbl&gt;</th><th scope=col>&lt;dbl&gt;</th><th scope=col>&lt;dbl&gt;</th><th scope=col>&lt;dbl&gt;</th><th scope=col>&lt;dbl&gt;</th><th scope=col>&lt;dbl&gt;</th><th scope=col>&lt;fct&gt;</th><th scope=col>&lt;dbl&gt;</th><th scope=col>&lt;dbl&gt;</th><th scope=col>&lt;dbl&gt;</th><th scope=col>&lt;dbl&gt;</th><th scope=col>&lt;dbl&gt;</th><th scope=col>&lt;dbl&gt;</th><th scope=col>&lt;dbl&gt;</th><th scope=col>&lt;dbl&gt;</th><th scope=col>&lt;dbl&gt;</th><th scope=col>&lt;dbl&gt;</th><th scope=col>&lt;fct&gt;</th><th scope=col>&lt;dbl&gt;</th></tr>\n",
       "</thead>\n",
       "<tbody>\n",
       "\t<tr><td>128</td><td>25</td><td>265.1</td><td>197.4</td><td>244.7</td><td>10.0</td><td>1</td><td>0</td><td>0</td><td>1</td><td>110</td><td>45.07</td><td> 99</td><td>16.78</td><td> 91</td><td>11.01</td><td>3</td><td>2.70</td><td>KS</td><td>415</td></tr>\n",
       "\t<tr><td>107</td><td>26</td><td>161.6</td><td>195.5</td><td>254.4</td><td>13.7</td><td>1</td><td>0</td><td>0</td><td>1</td><td>123</td><td>27.47</td><td>103</td><td>16.62</td><td>103</td><td>11.45</td><td>3</td><td>3.70</td><td>OH</td><td>415</td></tr>\n",
       "\t<tr><td>137</td><td> 0</td><td>243.4</td><td>121.2</td><td>162.6</td><td>12.2</td><td>0</td><td>0</td><td>0</td><td>0</td><td>114</td><td>41.38</td><td>110</td><td>10.30</td><td>104</td><td> 7.32</td><td>5</td><td>3.29</td><td>NJ</td><td>415</td></tr>\n",
       "\t<tr><td> 84</td><td> 0</td><td>299.4</td><td> 61.9</td><td>196.9</td><td> 6.6</td><td>2</td><td>0</td><td>1</td><td>0</td><td> 71</td><td>50.90</td><td> 88</td><td> 5.26</td><td> 89</td><td> 8.86</td><td>7</td><td>1.78</td><td>OH</td><td>408</td></tr>\n",
       "\t<tr><td> 75</td><td> 0</td><td>166.7</td><td>148.3</td><td>186.9</td><td>10.1</td><td>3</td><td>0</td><td>1</td><td>0</td><td>113</td><td>28.34</td><td>122</td><td>12.61</td><td>121</td><td> 8.41</td><td>3</td><td>2.73</td><td>OK</td><td>415</td></tr>\n",
       "\t<tr><td>118</td><td> 0</td><td>223.4</td><td>220.6</td><td>203.9</td><td> 6.3</td><td>0</td><td>0</td><td>1</td><td>0</td><td> 98</td><td>37.98</td><td>101</td><td>18.75</td><td>118</td><td> 9.18</td><td>6</td><td>1.70</td><td>AL</td><td>510</td></tr>\n",
       "</tbody>\n",
       "</table>\n"
      ],
      "text/latex": [
       "A tibble: 6 × 20\n",
       "\\begin{tabular}{llllllllllllllllllll}\n",
       " Account.Length & VMail.Message & Day.Mins & Eve.Mins & Night.Mins & Intl.Mins & CustServ.Calls & Churn & Int.l.Plan & VMail.Plan & Day.Calls & Day.Charge & Eve.Calls & Eve.Charge & Night.Calls & Night.Charge & Intl.Calls & Intl.Charge & State & Area.Code\\\\\n",
       " <dbl> & <dbl> & <dbl> & <dbl> & <dbl> & <dbl> & <dbl> & <fct> & <dbl> & <dbl> & <dbl> & <dbl> & <dbl> & <dbl> & <dbl> & <dbl> & <dbl> & <dbl> & <fct> & <dbl>\\\\\n",
       "\\hline\n",
       "\t 128 & 25 & 265.1 & 197.4 & 244.7 & 10.0 & 1 & 0 & 0 & 1 & 110 & 45.07 &  99 & 16.78 &  91 & 11.01 & 3 & 2.70 & KS & 415\\\\\n",
       "\t 107 & 26 & 161.6 & 195.5 & 254.4 & 13.7 & 1 & 0 & 0 & 1 & 123 & 27.47 & 103 & 16.62 & 103 & 11.45 & 3 & 3.70 & OH & 415\\\\\n",
       "\t 137 &  0 & 243.4 & 121.2 & 162.6 & 12.2 & 0 & 0 & 0 & 0 & 114 & 41.38 & 110 & 10.30 & 104 &  7.32 & 5 & 3.29 & NJ & 415\\\\\n",
       "\t  84 &  0 & 299.4 &  61.9 & 196.9 &  6.6 & 2 & 0 & 1 & 0 &  71 & 50.90 &  88 &  5.26 &  89 &  8.86 & 7 & 1.78 & OH & 408\\\\\n",
       "\t  75 &  0 & 166.7 & 148.3 & 186.9 & 10.1 & 3 & 0 & 1 & 0 & 113 & 28.34 & 122 & 12.61 & 121 &  8.41 & 3 & 2.73 & OK & 415\\\\\n",
       "\t 118 &  0 & 223.4 & 220.6 & 203.9 &  6.3 & 0 & 0 & 1 & 0 &  98 & 37.98 & 101 & 18.75 & 118 &  9.18 & 6 & 1.70 & AL & 510\\\\\n",
       "\\end{tabular}\n"
      ],
      "text/markdown": [
       "\n",
       "A tibble: 6 × 20\n",
       "\n",
       "| Account.Length &lt;dbl&gt; | VMail.Message &lt;dbl&gt; | Day.Mins &lt;dbl&gt; | Eve.Mins &lt;dbl&gt; | Night.Mins &lt;dbl&gt; | Intl.Mins &lt;dbl&gt; | CustServ.Calls &lt;dbl&gt; | Churn &lt;fct&gt; | Int.l.Plan &lt;dbl&gt; | VMail.Plan &lt;dbl&gt; | Day.Calls &lt;dbl&gt; | Day.Charge &lt;dbl&gt; | Eve.Calls &lt;dbl&gt; | Eve.Charge &lt;dbl&gt; | Night.Calls &lt;dbl&gt; | Night.Charge &lt;dbl&gt; | Intl.Calls &lt;dbl&gt; | Intl.Charge &lt;dbl&gt; | State &lt;fct&gt; | Area.Code &lt;dbl&gt; |\n",
       "|---|---|---|---|---|---|---|---|---|---|---|---|---|---|---|---|---|---|---|---|\n",
       "| 128 | 25 | 265.1 | 197.4 | 244.7 | 10.0 | 1 | 0 | 0 | 1 | 110 | 45.07 |  99 | 16.78 |  91 | 11.01 | 3 | 2.70 | KS | 415 |\n",
       "| 107 | 26 | 161.6 | 195.5 | 254.4 | 13.7 | 1 | 0 | 0 | 1 | 123 | 27.47 | 103 | 16.62 | 103 | 11.45 | 3 | 3.70 | OH | 415 |\n",
       "| 137 |  0 | 243.4 | 121.2 | 162.6 | 12.2 | 0 | 0 | 0 | 0 | 114 | 41.38 | 110 | 10.30 | 104 |  7.32 | 5 | 3.29 | NJ | 415 |\n",
       "|  84 |  0 | 299.4 |  61.9 | 196.9 |  6.6 | 2 | 0 | 1 | 0 |  71 | 50.90 |  88 |  5.26 |  89 |  8.86 | 7 | 1.78 | OH | 408 |\n",
       "|  75 |  0 | 166.7 | 148.3 | 186.9 | 10.1 | 3 | 0 | 1 | 0 | 113 | 28.34 | 122 | 12.61 | 121 |  8.41 | 3 | 2.73 | OK | 415 |\n",
       "| 118 |  0 | 223.4 | 220.6 | 203.9 |  6.3 | 0 | 0 | 1 | 0 |  98 | 37.98 | 101 | 18.75 | 118 |  9.18 | 6 | 1.70 | AL | 510 |\n",
       "\n"
      ],
      "text/plain": [
       "  Account.Length VMail.Message Day.Mins Eve.Mins Night.Mins Intl.Mins\n",
       "1 128            25            265.1    197.4    244.7      10.0     \n",
       "2 107            26            161.6    195.5    254.4      13.7     \n",
       "3 137             0            243.4    121.2    162.6      12.2     \n",
       "4  84             0            299.4     61.9    196.9       6.6     \n",
       "5  75             0            166.7    148.3    186.9      10.1     \n",
       "6 118             0            223.4    220.6    203.9       6.3     \n",
       "  CustServ.Calls Churn Int.l.Plan VMail.Plan Day.Calls Day.Charge Eve.Calls\n",
       "1 1              0     0          1          110       45.07       99      \n",
       "2 1              0     0          1          123       27.47      103      \n",
       "3 0              0     0          0          114       41.38      110      \n",
       "4 2              0     1          0           71       50.90       88      \n",
       "5 3              0     1          0          113       28.34      122      \n",
       "6 0              0     1          0           98       37.98      101      \n",
       "  Eve.Charge Night.Calls Night.Charge Intl.Calls Intl.Charge State Area.Code\n",
       "1 16.78       91         11.01        3          2.70        KS    415      \n",
       "2 16.62      103         11.45        3          3.70        OH    415      \n",
       "3 10.30      104          7.32        5          3.29        NJ    415      \n",
       "4  5.26       89          8.86        7          1.78        OH    408      \n",
       "5 12.61      121          8.41        3          2.73        OK    415      \n",
       "6 18.75      118          9.18        6          1.70        AL    510      "
      ]
     },
     "metadata": {},
     "output_type": "display_data"
    }
   ],
   "source": [
    "churn$Phone <- NULL"
   ]
  },
  {
   "cell_type": "markdown",
   "metadata": {},
   "source": [
    "### Models"
   ]
  },
  {
   "cell_type": "code",
   "execution_count": 199,
   "metadata": {},
   "outputs": [],
   "source": [
    "idx = createDataPartition(y = churn$Churn, times = 1, p = 0.7, list=FALSE)\n",
    "train = churn[idx, ]\n",
    "test = churn[-idx, ]"
   ]
  },
  {
   "cell_type": "code",
   "execution_count": 200,
   "metadata": {},
   "outputs": [],
   "source": [
    "cv_folds <- createMultiFolds(train$Churn, k = 10, times = 3)\n",
    "cv_control <- trainControl(method = \"repeatedcv\", number = 10,\n",
    "                         repeats = 3, index = cv_folds)"
   ]
  },
  {
   "cell_type": "code",
   "execution_count": 201,
   "metadata": {},
   "outputs": [],
   "source": [
    "rpart_cv_m1 <- train(Churn ~ ., data = train, method = \"rpart\", \n",
    "                    trControl = cv_control, tuneLength = 7)"
   ]
  },
  {
   "cell_type": "code",
   "execution_count": 202,
   "metadata": {},
   "outputs": [
    {
     "data": {
      "text/plain": [
       "CART \n",
       "\n",
       "2334 samples\n",
       "  19 predictor\n",
       "   2 classes: '0', '1' \n",
       "\n",
       "No pre-processing\n",
       "Resampling: Cross-Validated (10 fold, repeated 3 times) \n",
       "Summary of sample sizes: 2100, 2102, 2100, 2101, 2100, 2101, ... \n",
       "Resampling results across tuning parameters:\n",
       "\n",
       "  cp          Accuracy   Kappa    \n",
       "  0.01474926  0.9340209  0.7068176\n",
       "  0.01769912  0.9293053  0.6833698\n",
       "  0.02064897  0.9277292  0.6757355\n",
       "  0.03834808  0.9261574  0.6640208\n",
       "  0.05309735  0.9114556  0.5792993\n",
       "  0.08259587  0.8726063  0.3051398\n",
       "  0.08456244  0.8683328  0.2521813\n",
       "\n",
       "Accuracy was used to select the optimal model using the largest value.\n",
       "The final value used for the model was cp = 0.01474926."
      ]
     },
     "metadata": {},
     "output_type": "display_data"
    }
   ],
   "source": [
    "rpart_cv_m1"
   ]
  },
  {
   "cell_type": "code",
   "execution_count": 203,
   "metadata": {},
   "outputs": [
    {
     "data": {
      "text/plain": [
       "Confusion Matrix and Statistics\n",
       "\n",
       "          Reference\n",
       "Prediction    0    1\n",
       "         0 1956   39\n",
       "         1   80  259\n",
       "                                          \n",
       "               Accuracy : 0.949           \n",
       "                 95% CI : (0.9393, 0.9576)\n",
       "    No Information Rate : 0.8723          \n",
       "    P-Value [Acc > NIR] : < 2.2e-16       \n",
       "                                          \n",
       "                  Kappa : 0.7838          \n",
       "                                          \n",
       " Mcnemar's Test P-Value : 0.0002456       \n",
       "                                          \n",
       "            Sensitivity : 0.9607          \n",
       "            Specificity : 0.8691          \n",
       "         Pos Pred Value : 0.9805          \n",
       "         Neg Pred Value : 0.7640          \n",
       "             Prevalence : 0.8723          \n",
       "         Detection Rate : 0.8380          \n",
       "   Detection Prevalence : 0.8548          \n",
       "      Balanced Accuracy : 0.9149          \n",
       "                                          \n",
       "       'Positive' Class : 0               \n",
       "                                          "
      ]
     },
     "metadata": {},
     "output_type": "display_data"
    }
   ],
   "source": [
    "confusionMatrix(train$Churn, predict(object = rpart_cv_m1, newdata = train))"
   ]
  },
  {
   "cell_type": "code",
   "execution_count": 207,
   "metadata": {},
   "outputs": [
    {
     "data": {
      "text/plain": [
       "Confusion Matrix and Statistics\n",
       "\n",
       "          Reference\n",
       "Prediction   0   1\n",
       "         0 824  31\n",
       "         1  35 109\n",
       "                                          \n",
       "               Accuracy : 0.9339          \n",
       "                 95% CI : (0.9167, 0.9485)\n",
       "    No Information Rate : 0.8599          \n",
       "    P-Value [Acc > NIR] : 1.045e-13       \n",
       "                                          \n",
       "                  Kappa : 0.7291          \n",
       "                                          \n",
       " Mcnemar's Test P-Value : 0.7119          \n",
       "                                          \n",
       "            Sensitivity : 0.9593          \n",
       "            Specificity : 0.7786          \n",
       "         Pos Pred Value : 0.9637          \n",
       "         Neg Pred Value : 0.7569          \n",
       "             Prevalence : 0.8599          \n",
       "         Detection Rate : 0.8248          \n",
       "   Detection Prevalence : 0.8559          \n",
       "      Balanced Accuracy : 0.8689          \n",
       "                                          \n",
       "       'Positive' Class : 0               \n",
       "                                          "
      ]
     },
     "metadata": {},
     "output_type": "display_data"
    }
   ],
   "source": [
    "confusionMatrix(test$Churn, predict(object = rpart_cv_m1, newdata = test))"
   ]
  },
  {
   "cell_type": "code",
   "execution_count": 208,
   "metadata": {},
   "outputs": [
    {
     "name": "stdout",
     "output_type": "stream",
     "text": [
      "Precision churn:  0.7569444 \n",
      "Recall churn:  0.7785714 \n",
      "F-Score churn:  0.7676056"
     ]
    }
   ],
   "source": [
    "# Precision: Of all people where we predicted churn what fraction actually is churn\n",
    "# Recall: Of all people that actually are churn, what fraction did we correcyly identified as churn\n",
    "\n",
    "cat(\"Precision churn: \", 109/(109+35), \"\\n\")\n",
    "cat(\"Recall churn: \", 109/(109+31), \"\\n\")\n",
    "cat(\"F-Score churn: \", 2*(109/(109+35) * 109/(109+31))/(109/(109+35) + 109/(109+31)))"
   ]
  },
  {
   "cell_type": "code",
   "execution_count": 209,
   "metadata": {},
   "outputs": [
    {
     "data": {
      "image/png": "[encoded data removed]",
      "text/plain": [
       "plot without title"
      ]
     },
     "metadata": {
      "image/png": {
       "height": 360,
       "width": 720
      },
      "text/plain": {
       "height": 360,
       "width": 720
      }
     },
     "output_type": "display_data"
    }
   ],
   "source": [
    "plot(rpart_cv_m1$finalModel)\n",
    "text(rpart_cv_m1$finalModel, cex=.8)"
   ]
  },
  {
   "cell_type": "code",
   "execution_count": 210,
   "metadata": {},
   "outputs": [],
   "source": [
    "xgboost_cv_m1 <- train(Churn ~ ., data = train, method = \"xgbTree\", \n",
    "                    trControl = cv_control, tuneLength = 7)"
   ]
  },
  {
   "cell_type": "code",
   "execution_count": 211,
   "metadata": {},
   "outputs": [],
   "source": [
    "saveRDS(xgboost_cv_m1, \"./models/xgboost_cv_m1.rds\")"
   ]
  },
  {
   "cell_type": "code",
   "execution_count": 214,
   "metadata": {},
   "outputs": [
    {
     "data": {
      "text/plain": [
       "Confusion Matrix and Statistics\n",
       "\n",
       "          Reference\n",
       "Prediction    0    1\n",
       "         0 1995    0\n",
       "         1    0  339\n",
       "                                     \n",
       "               Accuracy : 1          \n",
       "                 95% CI : (0.9984, 1)\n",
       "    No Information Rate : 0.8548     \n",
       "    P-Value [Acc > NIR] : < 2.2e-16  \n",
       "                                     \n",
       "                  Kappa : 1          \n",
       "                                     \n",
       " Mcnemar's Test P-Value : NA         \n",
       "                                     \n",
       "            Sensitivity : 1.0000     \n",
       "            Specificity : 1.0000     \n",
       "         Pos Pred Value : 1.0000     \n",
       "         Neg Pred Value : 1.0000     \n",
       "             Prevalence : 0.8548     \n",
       "         Detection Rate : 0.8548     \n",
       "   Detection Prevalence : 0.8548     \n",
       "      Balanced Accuracy : 1.0000     \n",
       "                                     \n",
       "       'Positive' Class : 0          \n",
       "                                     "
      ]
     },
     "metadata": {},
     "output_type": "display_data"
    }
   ],
   "source": [
    "confusionMatrix(train$Churn, predict(object = xgboost_cv_m1, newdata = train))"
   ]
  },
  {
   "cell_type": "code",
   "execution_count": 215,
   "metadata": {},
   "outputs": [
    {
     "data": {
      "text/plain": [
       "Confusion Matrix and Statistics\n",
       "\n",
       "          Reference\n",
       "Prediction   0   1\n",
       "         0 840  15\n",
       "         1  38 106\n",
       "                                        \n",
       "               Accuracy : 0.9469        \n",
       "                 95% CI : (0.9312, 0.96)\n",
       "    No Information Rate : 0.8789        \n",
       "    P-Value [Acc > NIR] : 2.119e-13     \n",
       "                                        \n",
       "                  Kappa : 0.7697        \n",
       "                                        \n",
       " Mcnemar's Test P-Value : 0.002512      \n",
       "                                        \n",
       "            Sensitivity : 0.9567        \n",
       "            Specificity : 0.8760        \n",
       "         Pos Pred Value : 0.9825        \n",
       "         Neg Pred Value : 0.7361        \n",
       "             Prevalence : 0.8789        \n",
       "         Detection Rate : 0.8408        \n",
       "   Detection Prevalence : 0.8559        \n",
       "      Balanced Accuracy : 0.9164        \n",
       "                                        \n",
       "       'Positive' Class : 0             \n",
       "                                        "
      ]
     },
     "metadata": {},
     "output_type": "display_data"
    }
   ],
   "source": [
    "confusionMatrix(test$Churn, predict(object = xgboost_cv_m1, newdata = test))"
   ]
  },
  {
   "cell_type": "code",
   "execution_count": 216,
   "metadata": {},
   "outputs": [
    {
     "name": "stdout",
     "output_type": "stream",
     "text": [
      "Precision churn:  0.7361111 \n",
      "Recall churn:  0.8760331 \n",
      "F-Score churn:  0.8"
     ]
    }
   ],
   "source": [
    "# Precision: Of all people where we predicted churn what fraction actually is churn\n",
    "# Recall: Of all people that actually are churn, what fraction did we correcyly identified as churn\n",
    "\n",
    "cat(\"Precision churn: \", 106/(106+38), \"\\n\")\n",
    "cat(\"Recall churn: \", 106/(106+15), \"\\n\")\n",
    "cat(\"F-Score churn: \", 2*(106/(106+38) * 106/(106+15))/(106/(106+38) + 106/(106+15)))"
   ]
  },
  {
   "cell_type": "code",
   "execution_count": null,
   "metadata": {},
   "outputs": [],
   "source": [
    "# TODO\n",
    "# try feature engineering\n",
    "# transform area code to factor\n",
    "# try other methods\n",
    "# try cluster then predict"
   ]
  }
 ],
 "metadata": {
  "kernelspec": {
   "display_name": "R",
   "language": "R",
   "name": "ir"
  },
  "language_info": {
   "codemirror_mode": "r",
   "file_extension": ".r",
   "mimetype": "text/x-r-source",
   "name": "R",
   "pygments_lexer": "r",
   "version": "3.6.2"
  }
 },
 "nbformat": 4,
 "nbformat_minor": 4
}
