{
 "cells": [
  {
   "cell_type": "code",
   "execution_count": 1,
   "metadata": {},
   "outputs": [],
   "source": [
    "library(survival)\n",
    "library(ggplot2)"
   ]
  },
  {
   "cell_type": "code",
   "execution_count": 3,
   "metadata": {},
   "outputs": [],
   "source": [
    "data <- read.csv(\"data//simulated HF mort data for GMPH (1K) final.csv\", header = TRUE, sep = \",\")"
   ]
  },
  {
   "cell_type": "code",
   "execution_count": 4,
   "metadata": {},
   "outputs": [],
   "source": [
    "gender <- as.factor(data$gender) # person gender\n",
    "fu_time <- data$fu_time # follow-up time\n",
    "death <- data$death # 1 if person is dead, 0 otherwise"
   ]
  },
  {
   "cell_type": "code",
   "execution_count": 9,
   "metadata": {},
   "outputs": [],
   "source": [
    "km_fit <- survfit(Surv(fu_time, death) ~ 1)"
   ]
  },
  {
   "cell_type": "code",
   "execution_count": 10,
   "metadata": {},
   "outputs": [
    {
     "data": {
      "image/png": "[encoded data removed]",
      "text/plain": [
       "plot without title"
      ]
     },
     "metadata": {
      "image/png": {
       "height": 420,
       "width": 420
      },
      "text/plain": {
       "height": 420,
       "width": 420
      }
     },
     "output_type": "display_data"
    }
   ],
   "source": [
    "plot(km_fit)"
   ]
  },
  {
   "cell_type": "code",
   "execution_count": 11,
   "metadata": {},
   "outputs": [
    {
     "data": {
      "text/plain": [
       "Call: survfit(formula = Surv(fu_time, death) ~ 1)\n",
       "\n",
       " time n.risk n.event survival std.err lower 95% CI upper 95% CI\n",
       "    1    992      12    0.988 0.00346        0.981        0.995\n",
       "    2    973       7    0.981 0.00435        0.972        0.989\n",
       "    3    963       5    0.976 0.00489        0.966        0.985\n",
       "    4    954       6    0.970 0.00546        0.959        0.980\n",
       "    5    945       5    0.964 0.00590        0.953        0.976\n",
       "    6    938       1    0.963 0.00598        0.952        0.975\n",
       "    7    933       1    0.962 0.00606        0.951        0.974\n",
       "   30    865      39    0.921 0.00865        0.905        0.939\n",
       "   60    809      28    0.891 0.01010        0.871        0.911\n",
       "   90    770      24    0.864 0.01117        0.843        0.887\n",
       "  180    698      43    0.815 0.01282        0.790        0.841\n",
       "  270    653      24    0.787 0.01363        0.760        0.814\n",
       "  360    619      21    0.761 0.01428        0.733        0.789\n",
       "  450    525      44    0.705 0.01554        0.675        0.736\n",
       "  540    429      47    0.639 0.01681        0.607        0.673\n",
       "  630    362      32    0.589 0.01765        0.556        0.625\n",
       "  720    266      43    0.514 0.01876        0.479        0.552\n",
       "  810    190      31    0.448 0.01979        0.411        0.488\n",
       "  900    126      26    0.378 0.02098        0.339        0.421"
      ]
     },
     "metadata": {},
     "output_type": "display_data"
    }
   ],
   "source": [
    "summary(km_fit, times = c(1:7,30,60,90*(1:10)))"
   ]
  },
  {
   "cell_type": "code",
   "execution_count": 25,
   "metadata": {},
   "outputs": [
    {
     "name": "stdout",
     "output_type": "stream",
     "text": [
      " Factor w/ 2 levels \"1\",\"2\": 2 1 2 1 2 1 1 2 2 2 ...\n"
     ]
    }
   ],
   "source": []
  },
  {
   "cell_type": "code",
   "execution_count": 30,
   "metadata": {},
   "outputs": [
    {
     "data": {
      "image/png": "[encoded data removed]",
      "text/plain": [
       "plot without title"
      ]
     },
     "metadata": {
      "image/png": {
       "height": 420,
       "width": 420
      },
      "text/plain": {
       "height": 420,
       "width": 420
      }
     },
     "output_type": "display_data"
    }
   ],
   "source": [
    "km_gender_fit <- survfit(Surv(fu_time, death) ~ gender)\n",
    "plot(km_gender_fit, col = c('blue', 'red'),\n",
    "    lwd = 2,\n",
    "    xlab = \"days\",\n",
    "    ylab = \"Survival Probability\")\n",
    "legend('topright', legend = c('Male', 'Female'), col = c('blue', 'red'), lwd = 2)"
   ]
  },
  {
   "cell_type": "code",
   "execution_count": 24,
   "metadata": {},
   "outputs": [
    {
     "data": {
      "text/plain": [
       "Call:\n",
       "survdiff(formula = Surv(fu_time, death) ~ gender, rho = 0)\n",
       "\n",
       "           N Observed Expected (O-E)^2/E (O-E)^2/V\n",
       "gender=1 548      268      271    0.0365     0.082\n",
       "gender=2 452      224      221    0.0448     0.082\n",
       "\n",
       " Chisq= 0.1  on 1 degrees of freedom, p= 0.8 "
      ]
     },
     "metadata": {},
     "output_type": "display_data"
    }
   ],
   "source": [
    "# gender 1 = Male\n",
    "# gender 2 = Female\n",
    "survdiff(Surv(fu_time, death) ~ gender, rho=0) "
   ]
  },
  {
   "cell_type": "markdown",
   "metadata": {},
   "source": [
    "**Results of the interpretation of log-rank test for gender**\n",
    "\n",
    "The log-rank test compares the survival time by gender. It’s the most popular method of comparing the survival of patient groups that takes the whole follow-up period into account. Its big advantage is that it you don’t need to know anything about the shape of the survival curve or the distribution of survival times. It’s based on a comparison of the observed numbers of deaths and the numbers of deaths expected if in fact there were no difference in the probability of death between the groups (genders in this case) and uses a chi-squared test.\n",
    "\n",
    "The resulting p-value that you should have got is high, at 0.8. There’s therefore no good evidence of a difference between the genders in their survival times.\n",
    "\n",
    "- Fail to reject the null hypothesis\n",
    "\n",
    "- Both genders seem to have similar survival rates over time\n",
    "\n",
    "- The group (gender) difference is not statistically significant"
   ]
  },
  {
   "cell_type": "code",
   "execution_count": null,
   "metadata": {},
   "outputs": [],
   "source": []
  }
 ],
 "metadata": {
  "kernelspec": {
   "display_name": "R",
   "language": "R",
   "name": "ir"
  },
  "language_info": {
   "codemirror_mode": "r",
   "file_extension": ".r",
   "mimetype": "text/x-r-source",
   "name": "R",
   "pygments_lexer": "r",
   "version": "3.6.2"
  }
 },
 "nbformat": 4,
 "nbformat_minor": 4
}
